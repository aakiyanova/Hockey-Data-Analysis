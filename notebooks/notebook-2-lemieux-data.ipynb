{
 "cells": [
  {
   "cell_type": "markdown",
   "id": "funny-limit",
   "metadata": {},
   "source": [
    "#### Mario Lemieux Stats and Awards"
   ]
  },
  {
   "cell_type": "code",
   "execution_count": 4,
   "id": "dense-analysis",
   "metadata": {},
   "outputs": [],
   "source": [
    "# imports\n",
    "import pandas as pd\n",
    "import numpy as np\n",
    "import zipfile\n",
    "import os\n",
    "import statistics\n",
    "import matplotlib.pyplot as plt\n",
    "import seaborn as sns\n",
    "import plotly.express as px\n",
    "import matplotlib.style as style \n",
    "from sklearn.impute import SimpleImputer"
   ]
  },
  {
   "cell_type": "markdown",
   "id": "tired-guide",
   "metadata": {},
   "source": [
    "**Hall of Fame dataframe**"
   ]
  },
  {
   "cell_type": "code",
   "execution_count": 5,
   "id": "textile-cassette",
   "metadata": {},
   "outputs": [],
   "source": [
    "# read hall of fame csv file\n",
    "hof = pd.read_csv('data/HOF.csv')"
   ]
  },
  {
   "cell_type": "code",
   "execution_count": 6,
   "id": "naked-checklist",
   "metadata": {},
   "outputs": [
    {
     "data": {
      "text/html": [
       "<div>\n",
       "<style scoped>\n",
       "    .dataframe tbody tr th:only-of-type {\n",
       "        vertical-align: middle;\n",
       "    }\n",
       "\n",
       "    .dataframe tbody tr th {\n",
       "        vertical-align: top;\n",
       "    }\n",
       "\n",
       "    .dataframe thead th {\n",
       "        text-align: right;\n",
       "    }\n",
       "</style>\n",
       "<table border=\"1\" class=\"dataframe\">\n",
       "  <thead>\n",
       "    <tr style=\"text-align: right;\">\n",
       "      <th></th>\n",
       "      <th>year</th>\n",
       "      <th>hofID</th>\n",
       "      <th>name</th>\n",
       "      <th>category</th>\n",
       "    </tr>\n",
       "  </thead>\n",
       "  <tbody>\n",
       "    <tr>\n",
       "      <th>306</th>\n",
       "      <td>1997</td>\n",
       "      <td>lemiema01h</td>\n",
       "      <td>Mario Lemieux</td>\n",
       "      <td>Player</td>\n",
       "    </tr>\n",
       "  </tbody>\n",
       "</table>\n",
       "</div>"
      ],
      "text/plain": [
       "     year       hofID           name category\n",
       "306  1997  lemiema01h  Mario Lemieux   Player"
      ]
     },
     "execution_count": 6,
     "metadata": {},
     "output_type": "execute_result"
    }
   ],
   "source": [
    "# check if Mario Lemieux has been admitted to the hall of fame \n",
    "hof.loc[hof['name']=='Mario Lemieux'] "
   ]
  },
  {
   "cell_type": "markdown",
   "id": "passing-ambassador",
   "metadata": {},
   "source": [
    "**Player awards**"
   ]
  },
  {
   "cell_type": "code",
   "execution_count": 7,
   "id": "iraqi-pakistan",
   "metadata": {},
   "outputs": [],
   "source": [
    "# read awards csv file\n",
    "awards = pd.read_csv('data/AwardsPlayers.csv')"
   ]
  },
  {
   "cell_type": "code",
   "execution_count": 8,
   "id": "empty-classic",
   "metadata": {},
   "outputs": [
    {
     "data": {
      "text/html": [
       "<div>\n",
       "<style scoped>\n",
       "    .dataframe tbody tr th:only-of-type {\n",
       "        vertical-align: middle;\n",
       "    }\n",
       "\n",
       "    .dataframe tbody tr th {\n",
       "        vertical-align: top;\n",
       "    }\n",
       "\n",
       "    .dataframe thead th {\n",
       "        text-align: right;\n",
       "    }\n",
       "</style>\n",
       "<table border=\"1\" class=\"dataframe\">\n",
       "  <thead>\n",
       "    <tr style=\"text-align: right;\">\n",
       "      <th></th>\n",
       "      <th>playerID</th>\n",
       "      <th>award</th>\n",
       "      <th>year</th>\n",
       "      <th>lgID</th>\n",
       "      <th>note</th>\n",
       "      <th>pos</th>\n",
       "    </tr>\n",
       "  </thead>\n",
       "  <tbody>\n",
       "    <tr>\n",
       "      <th>1072</th>\n",
       "      <td>lemiema01</td>\n",
       "      <td>All-Rookie</td>\n",
       "      <td>1984</td>\n",
       "      <td>NHL</td>\n",
       "      <td>NaN</td>\n",
       "      <td>C</td>\n",
       "    </tr>\n",
       "    <tr>\n",
       "      <th>1077</th>\n",
       "      <td>lemiema01</td>\n",
       "      <td>Calder</td>\n",
       "      <td>1984</td>\n",
       "      <td>NHL</td>\n",
       "      <td>NaN</td>\n",
       "      <td>NaN</td>\n",
       "    </tr>\n",
       "    <tr>\n",
       "      <th>1122</th>\n",
       "      <td>lemiema01</td>\n",
       "      <td>Pearson</td>\n",
       "      <td>1985</td>\n",
       "      <td>NHL</td>\n",
       "      <td>NaN</td>\n",
       "      <td>NaN</td>\n",
       "    </tr>\n",
       "    <tr>\n",
       "      <th>1127</th>\n",
       "      <td>lemiema01</td>\n",
       "      <td>Second Team All-Star</td>\n",
       "      <td>1985</td>\n",
       "      <td>NHL</td>\n",
       "      <td>NaN</td>\n",
       "      <td>C</td>\n",
       "    </tr>\n",
       "    <tr>\n",
       "      <th>1156</th>\n",
       "      <td>lemiema01</td>\n",
       "      <td>Second Team All-Star</td>\n",
       "      <td>1986</td>\n",
       "      <td>NHL</td>\n",
       "      <td>NaN</td>\n",
       "      <td>C</td>\n",
       "    </tr>\n",
       "    <tr>\n",
       "      <th>1169</th>\n",
       "      <td>lemiema01</td>\n",
       "      <td>Art Ross</td>\n",
       "      <td>1987</td>\n",
       "      <td>NHL</td>\n",
       "      <td>NaN</td>\n",
       "      <td>NaN</td>\n",
       "    </tr>\n",
       "    <tr>\n",
       "      <th>1174</th>\n",
       "      <td>lemiema01</td>\n",
       "      <td>First Team All-Star</td>\n",
       "      <td>1987</td>\n",
       "      <td>NHL</td>\n",
       "      <td>NaN</td>\n",
       "      <td>C</td>\n",
       "    </tr>\n",
       "    <tr>\n",
       "      <th>1178</th>\n",
       "      <td>lemiema01</td>\n",
       "      <td>Hart</td>\n",
       "      <td>1987</td>\n",
       "      <td>NHL</td>\n",
       "      <td>NaN</td>\n",
       "      <td>NaN</td>\n",
       "    </tr>\n",
       "    <tr>\n",
       "      <th>1185</th>\n",
       "      <td>lemiema01</td>\n",
       "      <td>Pearson</td>\n",
       "      <td>1987</td>\n",
       "      <td>NHL</td>\n",
       "      <td>NaN</td>\n",
       "      <td>NaN</td>\n",
       "    </tr>\n",
       "    <tr>\n",
       "      <th>1201</th>\n",
       "      <td>lemiema01</td>\n",
       "      <td>Art Ross</td>\n",
       "      <td>1988</td>\n",
       "      <td>NHL</td>\n",
       "      <td>NaN</td>\n",
       "      <td>NaN</td>\n",
       "    </tr>\n",
       "    <tr>\n",
       "      <th>1206</th>\n",
       "      <td>lemiema01</td>\n",
       "      <td>First Team All-Star</td>\n",
       "      <td>1988</td>\n",
       "      <td>NHL</td>\n",
       "      <td>NaN</td>\n",
       "      <td>C</td>\n",
       "    </tr>\n",
       "    <tr>\n",
       "      <th>1267</th>\n",
       "      <td>lemiema01</td>\n",
       "      <td>Conn Smythe</td>\n",
       "      <td>1990</td>\n",
       "      <td>NHL</td>\n",
       "      <td>NaN</td>\n",
       "      <td>NaN</td>\n",
       "    </tr>\n",
       "    <tr>\n",
       "      <th>1297</th>\n",
       "      <td>lemiema01</td>\n",
       "      <td>Art Ross</td>\n",
       "      <td>1991</td>\n",
       "      <td>NHL</td>\n",
       "      <td>NaN</td>\n",
       "      <td>NaN</td>\n",
       "    </tr>\n",
       "    <tr>\n",
       "      <th>1299</th>\n",
       "      <td>lemiema01</td>\n",
       "      <td>Conn Smythe</td>\n",
       "      <td>1991</td>\n",
       "      <td>NHL</td>\n",
       "      <td>NaN</td>\n",
       "      <td>NaN</td>\n",
       "    </tr>\n",
       "    <tr>\n",
       "      <th>1315</th>\n",
       "      <td>lemiema01</td>\n",
       "      <td>Second Team All-Star</td>\n",
       "      <td>1991</td>\n",
       "      <td>NHL</td>\n",
       "      <td>NaN</td>\n",
       "      <td>C</td>\n",
       "    </tr>\n",
       "    <tr>\n",
       "      <th>1328</th>\n",
       "      <td>lemiema01</td>\n",
       "      <td>Art Ross</td>\n",
       "      <td>1992</td>\n",
       "      <td>NHL</td>\n",
       "      <td>NaN</td>\n",
       "      <td>NaN</td>\n",
       "    </tr>\n",
       "    <tr>\n",
       "      <th>1334</th>\n",
       "      <td>lemiema01</td>\n",
       "      <td>First Team All-Star</td>\n",
       "      <td>1992</td>\n",
       "      <td>NHL</td>\n",
       "      <td>NaN</td>\n",
       "      <td>C</td>\n",
       "    </tr>\n",
       "    <tr>\n",
       "      <th>1337</th>\n",
       "      <td>lemiema01</td>\n",
       "      <td>Hart</td>\n",
       "      <td>1992</td>\n",
       "      <td>NHL</td>\n",
       "      <td>NaN</td>\n",
       "      <td>NaN</td>\n",
       "    </tr>\n",
       "    <tr>\n",
       "      <th>1341</th>\n",
       "      <td>lemiema01</td>\n",
       "      <td>Masterton</td>\n",
       "      <td>1992</td>\n",
       "      <td>NHL</td>\n",
       "      <td>NaN</td>\n",
       "      <td>NaN</td>\n",
       "    </tr>\n",
       "    <tr>\n",
       "      <th>1343</th>\n",
       "      <td>lemiema01</td>\n",
       "      <td>Pearson</td>\n",
       "      <td>1992</td>\n",
       "      <td>NHL</td>\n",
       "      <td>NaN</td>\n",
       "      <td>NaN</td>\n",
       "    </tr>\n",
       "    <tr>\n",
       "      <th>1344</th>\n",
       "      <td>lemiema01</td>\n",
       "      <td>Plus-Minus</td>\n",
       "      <td>1992</td>\n",
       "      <td>NHL</td>\n",
       "      <td>NaN</td>\n",
       "      <td>NaN</td>\n",
       "    </tr>\n",
       "    <tr>\n",
       "      <th>1422</th>\n",
       "      <td>lemiema01</td>\n",
       "      <td>Art Ross</td>\n",
       "      <td>1995</td>\n",
       "      <td>NHL</td>\n",
       "      <td>NaN</td>\n",
       "      <td>NaN</td>\n",
       "    </tr>\n",
       "    <tr>\n",
       "      <th>1430</th>\n",
       "      <td>lemiema01</td>\n",
       "      <td>First Team All-Star</td>\n",
       "      <td>1995</td>\n",
       "      <td>NHL</td>\n",
       "      <td>NaN</td>\n",
       "      <td>C</td>\n",
       "    </tr>\n",
       "    <tr>\n",
       "      <th>1431</th>\n",
       "      <td>lemiema01</td>\n",
       "      <td>Hart</td>\n",
       "      <td>1995</td>\n",
       "      <td>NHL</td>\n",
       "      <td>NaN</td>\n",
       "      <td>NaN</td>\n",
       "    </tr>\n",
       "    <tr>\n",
       "      <th>1438</th>\n",
       "      <td>lemiema01</td>\n",
       "      <td>Pearson</td>\n",
       "      <td>1995</td>\n",
       "      <td>NHL</td>\n",
       "      <td>NaN</td>\n",
       "      <td>NaN</td>\n",
       "    </tr>\n",
       "    <tr>\n",
       "      <th>1454</th>\n",
       "      <td>lemiema01</td>\n",
       "      <td>Art Ross</td>\n",
       "      <td>1996</td>\n",
       "      <td>NHL</td>\n",
       "      <td>NaN</td>\n",
       "      <td>NaN</td>\n",
       "    </tr>\n",
       "    <tr>\n",
       "      <th>1460</th>\n",
       "      <td>lemiema01</td>\n",
       "      <td>First Team All-Star</td>\n",
       "      <td>1996</td>\n",
       "      <td>NHL</td>\n",
       "      <td>NaN</td>\n",
       "      <td>C</td>\n",
       "    </tr>\n",
       "    <tr>\n",
       "      <th>1606</th>\n",
       "      <td>lemiema01</td>\n",
       "      <td>Second Team All-Star</td>\n",
       "      <td>2000</td>\n",
       "      <td>NHL</td>\n",
       "      <td>NaN</td>\n",
       "      <td>C</td>\n",
       "    </tr>\n",
       "  </tbody>\n",
       "</table>\n",
       "</div>"
      ],
      "text/plain": [
       "       playerID                 award  year lgID note  pos\n",
       "1072  lemiema01            All-Rookie  1984  NHL  NaN    C\n",
       "1077  lemiema01                Calder  1984  NHL  NaN  NaN\n",
       "1122  lemiema01               Pearson  1985  NHL  NaN  NaN\n",
       "1127  lemiema01  Second Team All-Star  1985  NHL  NaN    C\n",
       "1156  lemiema01  Second Team All-Star  1986  NHL  NaN    C\n",
       "1169  lemiema01              Art Ross  1987  NHL  NaN  NaN\n",
       "1174  lemiema01   First Team All-Star  1987  NHL  NaN    C\n",
       "1178  lemiema01                  Hart  1987  NHL  NaN  NaN\n",
       "1185  lemiema01               Pearson  1987  NHL  NaN  NaN\n",
       "1201  lemiema01              Art Ross  1988  NHL  NaN  NaN\n",
       "1206  lemiema01   First Team All-Star  1988  NHL  NaN    C\n",
       "1267  lemiema01           Conn Smythe  1990  NHL  NaN  NaN\n",
       "1297  lemiema01              Art Ross  1991  NHL  NaN  NaN\n",
       "1299  lemiema01           Conn Smythe  1991  NHL  NaN  NaN\n",
       "1315  lemiema01  Second Team All-Star  1991  NHL  NaN    C\n",
       "1328  lemiema01              Art Ross  1992  NHL  NaN  NaN\n",
       "1334  lemiema01   First Team All-Star  1992  NHL  NaN    C\n",
       "1337  lemiema01                  Hart  1992  NHL  NaN  NaN\n",
       "1341  lemiema01             Masterton  1992  NHL  NaN  NaN\n",
       "1343  lemiema01               Pearson  1992  NHL  NaN  NaN\n",
       "1344  lemiema01            Plus-Minus  1992  NHL  NaN  NaN\n",
       "1422  lemiema01              Art Ross  1995  NHL  NaN  NaN\n",
       "1430  lemiema01   First Team All-Star  1995  NHL  NaN    C\n",
       "1431  lemiema01                  Hart  1995  NHL  NaN  NaN\n",
       "1438  lemiema01               Pearson  1995  NHL  NaN  NaN\n",
       "1454  lemiema01              Art Ross  1996  NHL  NaN  NaN\n",
       "1460  lemiema01   First Team All-Star  1996  NHL  NaN    C\n",
       "1606  lemiema01  Second Team All-Star  2000  NHL  NaN    C"
      ]
     },
     "execution_count": 8,
     "metadata": {},
     "output_type": "execute_result"
    }
   ],
   "source": [
    "# observe the awards given to Lemieux\n",
    "lemieux_awards = awards.loc[awards['playerID'] == 'lemiema01'] \n",
    "lemieux_awards"
   ]
  },
  {
   "cell_type": "markdown",
   "id": "bulgarian-parks",
   "metadata": {},
   "source": [
    "**Master dataframe**"
   ]
  },
  {
   "cell_type": "code",
   "execution_count": 9,
   "id": "directed-press",
   "metadata": {},
   "outputs": [],
   "source": [
    "# read master csv file\n",
    "master = pd.read_csv('data/Master.csv')"
   ]
  },
  {
   "cell_type": "code",
   "execution_count": 10,
   "id": "informational-woman",
   "metadata": {},
   "outputs": [
    {
     "data": {
      "text/plain": [
       "Index(['playerID', 'coachID', 'hofID', 'firstName', 'lastName', 'nameNote',\n",
       "       'nameGiven', 'nameNick', 'height', 'weight', 'shootCatch', 'legendsID',\n",
       "       'ihdbID', 'hrefID', 'firstNHL', 'lastNHL', 'firstWHA', 'lastWHA', 'pos',\n",
       "       'birthYear', 'birthMon', 'birthDay', 'birthCountry', 'birthState',\n",
       "       'birthCity', 'deathYear', 'deathMon', 'deathDay', 'deathCountry',\n",
       "       'deathState', 'deathCity'],\n",
       "      dtype='object')"
      ]
     },
     "execution_count": 10,
     "metadata": {},
     "output_type": "execute_result"
    }
   ],
   "source": [
    "master.columns"
   ]
  },
  {
   "cell_type": "code",
   "execution_count": 14,
   "id": "indoor-efficiency",
   "metadata": {},
   "outputs": [
    {
     "data": {
      "text/html": [
       "<div>\n",
       "<style scoped>\n",
       "    .dataframe tbody tr th:only-of-type {\n",
       "        vertical-align: middle;\n",
       "    }\n",
       "\n",
       "    .dataframe tbody tr th {\n",
       "        vertical-align: top;\n",
       "    }\n",
       "\n",
       "    .dataframe thead th {\n",
       "        text-align: right;\n",
       "    }\n",
       "</style>\n",
       "<table border=\"1\" class=\"dataframe\">\n",
       "  <thead>\n",
       "    <tr style=\"text-align: right;\">\n",
       "      <th></th>\n",
       "      <th>playerID</th>\n",
       "      <th>coachID</th>\n",
       "      <th>hofID</th>\n",
       "      <th>firstName</th>\n",
       "      <th>lastName</th>\n",
       "      <th>nameNote</th>\n",
       "      <th>nameGiven</th>\n",
       "      <th>nameNick</th>\n",
       "      <th>height</th>\n",
       "      <th>weight</th>\n",
       "      <th>...</th>\n",
       "      <th>birthDay</th>\n",
       "      <th>birthCountry</th>\n",
       "      <th>birthState</th>\n",
       "      <th>birthCity</th>\n",
       "      <th>deathYear</th>\n",
       "      <th>deathMon</th>\n",
       "      <th>deathDay</th>\n",
       "      <th>deathCountry</th>\n",
       "      <th>deathState</th>\n",
       "      <th>deathCity</th>\n",
       "    </tr>\n",
       "  </thead>\n",
       "  <tbody>\n",
       "    <tr>\n",
       "      <th>4024</th>\n",
       "      <td>lemiema01</td>\n",
       "      <td>NaN</td>\n",
       "      <td>lemiema01h</td>\n",
       "      <td>Mario</td>\n",
       "      <td>Lemieux</td>\n",
       "      <td>NaN</td>\n",
       "      <td>Mario</td>\n",
       "      <td>The Magnificent</td>\n",
       "      <td>76.0</td>\n",
       "      <td>230.0</td>\n",
       "      <td>...</td>\n",
       "      <td>5.0</td>\n",
       "      <td>Canada</td>\n",
       "      <td>QC</td>\n",
       "      <td>Montreal</td>\n",
       "      <td>NaN</td>\n",
       "      <td>NaN</td>\n",
       "      <td>NaN</td>\n",
       "      <td>NaN</td>\n",
       "      <td>NaN</td>\n",
       "      <td>NaN</td>\n",
       "    </tr>\n",
       "  </tbody>\n",
       "</table>\n",
       "<p>1 rows × 31 columns</p>\n",
       "</div>"
      ],
      "text/plain": [
       "       playerID coachID       hofID firstName lastName nameNote nameGiven  \\\n",
       "4024  lemiema01     NaN  lemiema01h     Mario  Lemieux      NaN     Mario   \n",
       "\n",
       "             nameNick  height  weight  ... birthDay birthCountry  birthState  \\\n",
       "4024  The Magnificent    76.0   230.0  ...      5.0       Canada          QC   \n",
       "\n",
       "     birthCity  deathYear  deathMon  deathDay  deathCountry deathState  \\\n",
       "4024  Montreal        NaN       NaN       NaN           NaN        NaN   \n",
       "\n",
       "      deathCity  \n",
       "4024        NaN  \n",
       "\n",
       "[1 rows x 31 columns]"
      ]
     },
     "execution_count": 14,
     "metadata": {},
     "output_type": "execute_result"
    }
   ],
   "source": [
    "# see player's stats\n",
    "lemieux_stats = master.loc[master['playerID'] == 'lemiema01']\n",
    "lemieux_stats"
   ]
  },
  {
   "cell_type": "code",
   "execution_count": 15,
   "id": "blank-shuttle",
   "metadata": {},
   "outputs": [
    {
     "data": {
      "text/plain": [
       "4024    1965.0\n",
       "Name: birthYear, dtype: float64"
      ]
     },
     "execution_count": 15,
     "metadata": {},
     "output_type": "execute_result"
    }
   ],
   "source": [
    "# check out the birth year\n",
    "lemieux_stats['birthYear']"
   ]
  },
  {
   "cell_type": "code",
   "execution_count": 16,
   "id": "enabling-phone",
   "metadata": {},
   "outputs": [
    {
     "data": {
      "text/plain": [
       "4024    56.0\n",
       "Name: birthYear, dtype: float64"
      ]
     },
     "execution_count": 16,
     "metadata": {},
     "output_type": "execute_result"
    }
   ],
   "source": [
    "# the player is 56 y.o.\n",
    "age = 2021 - lemieux_stats['birthYear']\n",
    "age"
   ]
  },
  {
   "cell_type": "markdown",
   "id": "impossible-software",
   "metadata": {},
   "source": [
    "**Scoring**\n"
   ]
  },
  {
   "cell_type": "code",
   "execution_count": 17,
   "id": "looking-million",
   "metadata": {},
   "outputs": [],
   "source": [
    "# read scoring csv file\n",
    "scoring = pd.read_csv('data/Scoring.csv')"
   ]
  },
  {
   "cell_type": "code",
   "execution_count": 18,
   "id": "quick-telephone",
   "metadata": {},
   "outputs": [],
   "source": [
    "pd.options.display.float_format = '{:.1f}'.format"
   ]
  },
  {
   "cell_type": "code",
   "execution_count": 19,
   "id": "higher-thousand",
   "metadata": {},
   "outputs": [
    {
     "data": {
      "text/html": [
       "<div>\n",
       "<style scoped>\n",
       "    .dataframe tbody tr th:only-of-type {\n",
       "        vertical-align: middle;\n",
       "    }\n",
       "\n",
       "    .dataframe tbody tr th {\n",
       "        vertical-align: top;\n",
       "    }\n",
       "\n",
       "    .dataframe thead th {\n",
       "        text-align: right;\n",
       "    }\n",
       "</style>\n",
       "<table border=\"1\" class=\"dataframe\">\n",
       "  <thead>\n",
       "    <tr style=\"text-align: right;\">\n",
       "      <th></th>\n",
       "      <th>playerID</th>\n",
       "      <th>year</th>\n",
       "      <th>stint</th>\n",
       "      <th>tmID</th>\n",
       "      <th>lgID</th>\n",
       "      <th>pos</th>\n",
       "      <th>GP</th>\n",
       "      <th>G</th>\n",
       "      <th>A</th>\n",
       "      <th>Pts</th>\n",
       "      <th>...</th>\n",
       "      <th>PostA</th>\n",
       "      <th>PostPts</th>\n",
       "      <th>PostPIM</th>\n",
       "      <th>Post+/-</th>\n",
       "      <th>PostPPG</th>\n",
       "      <th>PostPPA</th>\n",
       "      <th>PostSHG</th>\n",
       "      <th>PostSHA</th>\n",
       "      <th>PostGWG</th>\n",
       "      <th>PostSOG</th>\n",
       "    </tr>\n",
       "  </thead>\n",
       "  <tbody>\n",
       "    <tr>\n",
       "      <th>14888</th>\n",
       "      <td>gretzwa01</td>\n",
       "      <td>1985</td>\n",
       "      <td>1</td>\n",
       "      <td>EDM</td>\n",
       "      <td>NHL</td>\n",
       "      <td>C</td>\n",
       "      <td>80.0</td>\n",
       "      <td>52.0</td>\n",
       "      <td>163.0</td>\n",
       "      <td>215.0</td>\n",
       "      <td>...</td>\n",
       "      <td>11.0</td>\n",
       "      <td>19.0</td>\n",
       "      <td>2.0</td>\n",
       "      <td>0.0</td>\n",
       "      <td>4.0</td>\n",
       "      <td>NaN</td>\n",
       "      <td>1.0</td>\n",
       "      <td>NaN</td>\n",
       "      <td>2.0</td>\n",
       "      <td>42.0</td>\n",
       "    </tr>\n",
       "  </tbody>\n",
       "</table>\n",
       "<p>1 rows × 31 columns</p>\n",
       "</div>"
      ],
      "text/plain": [
       "        playerID  year  stint tmID lgID pos   GP    G     A   Pts  ...  PostA  \\\n",
       "14888  gretzwa01  1985      1  EDM  NHL   C 80.0 52.0 163.0 215.0  ...   11.0   \n",
       "\n",
       "       PostPts  PostPIM  Post+/-  PostPPG  PostPPA  PostSHG  PostSHA  PostGWG  \\\n",
       "14888     19.0      2.0      0.0      4.0      NaN      1.0      NaN      2.0   \n",
       "\n",
       "       PostSOG  \n",
       "14888     42.0  \n",
       "\n",
       "[1 rows x 31 columns]"
      ]
     },
     "execution_count": 19,
     "metadata": {},
     "output_type": "execute_result"
    }
   ],
   "source": [
    "# wayne gretzky holds a record with 215 points earned in a year\n",
    "scoring.loc[scoring['Pts'] == 215]"
   ]
  },
  {
   "cell_type": "code",
   "execution_count": 20,
   "id": "athletic-devon",
   "metadata": {},
   "outputs": [
    {
     "data": {
      "text/html": [
       "<div>\n",
       "<style scoped>\n",
       "    .dataframe tbody tr th:only-of-type {\n",
       "        vertical-align: middle;\n",
       "    }\n",
       "\n",
       "    .dataframe tbody tr th {\n",
       "        vertical-align: top;\n",
       "    }\n",
       "\n",
       "    .dataframe thead th {\n",
       "        text-align: right;\n",
       "    }\n",
       "</style>\n",
       "<table border=\"1\" class=\"dataframe\">\n",
       "  <thead>\n",
       "    <tr style=\"text-align: right;\">\n",
       "      <th></th>\n",
       "      <th>playerID</th>\n",
       "      <th>year</th>\n",
       "      <th>stint</th>\n",
       "      <th>tmID</th>\n",
       "      <th>lgID</th>\n",
       "      <th>pos</th>\n",
       "      <th>GP</th>\n",
       "      <th>G</th>\n",
       "      <th>A</th>\n",
       "      <th>Pts</th>\n",
       "      <th>...</th>\n",
       "      <th>PostA</th>\n",
       "      <th>PostPts</th>\n",
       "      <th>PostPIM</th>\n",
       "      <th>Post+/-</th>\n",
       "      <th>PostPPG</th>\n",
       "      <th>PostPPA</th>\n",
       "      <th>PostSHG</th>\n",
       "      <th>PostSHA</th>\n",
       "      <th>PostGWG</th>\n",
       "      <th>PostSOG</th>\n",
       "    </tr>\n",
       "  </thead>\n",
       "  <tbody>\n",
       "    <tr>\n",
       "      <th>23605</th>\n",
       "      <td>lemiema01</td>\n",
       "      <td>1984</td>\n",
       "      <td>1</td>\n",
       "      <td>PIT</td>\n",
       "      <td>NHL</td>\n",
       "      <td>C</td>\n",
       "      <td>73.0</td>\n",
       "      <td>43.0</td>\n",
       "      <td>57.0</td>\n",
       "      <td>100.0</td>\n",
       "      <td>...</td>\n",
       "      <td>NaN</td>\n",
       "      <td>NaN</td>\n",
       "      <td>NaN</td>\n",
       "      <td>NaN</td>\n",
       "      <td>NaN</td>\n",
       "      <td>NaN</td>\n",
       "      <td>NaN</td>\n",
       "      <td>NaN</td>\n",
       "      <td>NaN</td>\n",
       "      <td>NaN</td>\n",
       "    </tr>\n",
       "    <tr>\n",
       "      <th>23606</th>\n",
       "      <td>lemiema01</td>\n",
       "      <td>1985</td>\n",
       "      <td>1</td>\n",
       "      <td>PIT</td>\n",
       "      <td>NHL</td>\n",
       "      <td>C</td>\n",
       "      <td>79.0</td>\n",
       "      <td>48.0</td>\n",
       "      <td>93.0</td>\n",
       "      <td>141.0</td>\n",
       "      <td>...</td>\n",
       "      <td>NaN</td>\n",
       "      <td>NaN</td>\n",
       "      <td>NaN</td>\n",
       "      <td>NaN</td>\n",
       "      <td>NaN</td>\n",
       "      <td>NaN</td>\n",
       "      <td>NaN</td>\n",
       "      <td>NaN</td>\n",
       "      <td>NaN</td>\n",
       "      <td>NaN</td>\n",
       "    </tr>\n",
       "    <tr>\n",
       "      <th>23607</th>\n",
       "      <td>lemiema01</td>\n",
       "      <td>1986</td>\n",
       "      <td>1</td>\n",
       "      <td>PIT</td>\n",
       "      <td>NHL</td>\n",
       "      <td>C</td>\n",
       "      <td>63.0</td>\n",
       "      <td>54.0</td>\n",
       "      <td>53.0</td>\n",
       "      <td>107.0</td>\n",
       "      <td>...</td>\n",
       "      <td>NaN</td>\n",
       "      <td>NaN</td>\n",
       "      <td>NaN</td>\n",
       "      <td>NaN</td>\n",
       "      <td>NaN</td>\n",
       "      <td>NaN</td>\n",
       "      <td>NaN</td>\n",
       "      <td>NaN</td>\n",
       "      <td>NaN</td>\n",
       "      <td>NaN</td>\n",
       "    </tr>\n",
       "    <tr>\n",
       "      <th>23608</th>\n",
       "      <td>lemiema01</td>\n",
       "      <td>1987</td>\n",
       "      <td>1</td>\n",
       "      <td>PIT</td>\n",
       "      <td>NHL</td>\n",
       "      <td>C</td>\n",
       "      <td>77.0</td>\n",
       "      <td>70.0</td>\n",
       "      <td>98.0</td>\n",
       "      <td>168.0</td>\n",
       "      <td>...</td>\n",
       "      <td>NaN</td>\n",
       "      <td>NaN</td>\n",
       "      <td>NaN</td>\n",
       "      <td>NaN</td>\n",
       "      <td>NaN</td>\n",
       "      <td>NaN</td>\n",
       "      <td>NaN</td>\n",
       "      <td>NaN</td>\n",
       "      <td>NaN</td>\n",
       "      <td>NaN</td>\n",
       "    </tr>\n",
       "    <tr>\n",
       "      <th>23609</th>\n",
       "      <td>lemiema01</td>\n",
       "      <td>1988</td>\n",
       "      <td>1</td>\n",
       "      <td>PIT</td>\n",
       "      <td>NHL</td>\n",
       "      <td>C</td>\n",
       "      <td>76.0</td>\n",
       "      <td>85.0</td>\n",
       "      <td>114.0</td>\n",
       "      <td>199.0</td>\n",
       "      <td>...</td>\n",
       "      <td>7.0</td>\n",
       "      <td>19.0</td>\n",
       "      <td>16.0</td>\n",
       "      <td>-1.0</td>\n",
       "      <td>7.0</td>\n",
       "      <td>3.0</td>\n",
       "      <td>1.0</td>\n",
       "      <td>0.0</td>\n",
       "      <td>0.0</td>\n",
       "      <td>41.0</td>\n",
       "    </tr>\n",
       "    <tr>\n",
       "      <th>23610</th>\n",
       "      <td>lemiema01</td>\n",
       "      <td>1989</td>\n",
       "      <td>1</td>\n",
       "      <td>PIT</td>\n",
       "      <td>NHL</td>\n",
       "      <td>C</td>\n",
       "      <td>59.0</td>\n",
       "      <td>45.0</td>\n",
       "      <td>78.0</td>\n",
       "      <td>123.0</td>\n",
       "      <td>...</td>\n",
       "      <td>NaN</td>\n",
       "      <td>NaN</td>\n",
       "      <td>NaN</td>\n",
       "      <td>NaN</td>\n",
       "      <td>NaN</td>\n",
       "      <td>NaN</td>\n",
       "      <td>NaN</td>\n",
       "      <td>NaN</td>\n",
       "      <td>NaN</td>\n",
       "      <td>NaN</td>\n",
       "    </tr>\n",
       "    <tr>\n",
       "      <th>23611</th>\n",
       "      <td>lemiema01</td>\n",
       "      <td>1990</td>\n",
       "      <td>1</td>\n",
       "      <td>PIT</td>\n",
       "      <td>NHL</td>\n",
       "      <td>C</td>\n",
       "      <td>26.0</td>\n",
       "      <td>19.0</td>\n",
       "      <td>26.0</td>\n",
       "      <td>45.0</td>\n",
       "      <td>...</td>\n",
       "      <td>28.0</td>\n",
       "      <td>44.0</td>\n",
       "      <td>16.0</td>\n",
       "      <td>14.0</td>\n",
       "      <td>6.0</td>\n",
       "      <td>13.0</td>\n",
       "      <td>2.0</td>\n",
       "      <td>0.0</td>\n",
       "      <td>0.0</td>\n",
       "      <td>93.0</td>\n",
       "    </tr>\n",
       "    <tr>\n",
       "      <th>23612</th>\n",
       "      <td>lemiema01</td>\n",
       "      <td>1991</td>\n",
       "      <td>1</td>\n",
       "      <td>PIT</td>\n",
       "      <td>NHL</td>\n",
       "      <td>C</td>\n",
       "      <td>64.0</td>\n",
       "      <td>44.0</td>\n",
       "      <td>87.0</td>\n",
       "      <td>131.0</td>\n",
       "      <td>...</td>\n",
       "      <td>18.0</td>\n",
       "      <td>34.0</td>\n",
       "      <td>2.0</td>\n",
       "      <td>6.0</td>\n",
       "      <td>8.0</td>\n",
       "      <td>10.0</td>\n",
       "      <td>2.0</td>\n",
       "      <td>0.0</td>\n",
       "      <td>5.0</td>\n",
       "      <td>69.0</td>\n",
       "    </tr>\n",
       "    <tr>\n",
       "      <th>23613</th>\n",
       "      <td>lemiema01</td>\n",
       "      <td>1992</td>\n",
       "      <td>1</td>\n",
       "      <td>PIT</td>\n",
       "      <td>NHL</td>\n",
       "      <td>C</td>\n",
       "      <td>60.0</td>\n",
       "      <td>69.0</td>\n",
       "      <td>91.0</td>\n",
       "      <td>160.0</td>\n",
       "      <td>...</td>\n",
       "      <td>10.0</td>\n",
       "      <td>18.0</td>\n",
       "      <td>10.0</td>\n",
       "      <td>2.0</td>\n",
       "      <td>3.0</td>\n",
       "      <td>6.0</td>\n",
       "      <td>1.0</td>\n",
       "      <td>0.0</td>\n",
       "      <td>1.0</td>\n",
       "      <td>40.0</td>\n",
       "    </tr>\n",
       "    <tr>\n",
       "      <th>23614</th>\n",
       "      <td>lemiema01</td>\n",
       "      <td>1993</td>\n",
       "      <td>1</td>\n",
       "      <td>PIT</td>\n",
       "      <td>NHL</td>\n",
       "      <td>C</td>\n",
       "      <td>22.0</td>\n",
       "      <td>17.0</td>\n",
       "      <td>20.0</td>\n",
       "      <td>37.0</td>\n",
       "      <td>...</td>\n",
       "      <td>3.0</td>\n",
       "      <td>7.0</td>\n",
       "      <td>2.0</td>\n",
       "      <td>-4.0</td>\n",
       "      <td>1.0</td>\n",
       "      <td>1.0</td>\n",
       "      <td>0.0</td>\n",
       "      <td>0.0</td>\n",
       "      <td>0.0</td>\n",
       "      <td>23.0</td>\n",
       "    </tr>\n",
       "    <tr>\n",
       "      <th>23615</th>\n",
       "      <td>lemiema01</td>\n",
       "      <td>1995</td>\n",
       "      <td>1</td>\n",
       "      <td>PIT</td>\n",
       "      <td>NHL</td>\n",
       "      <td>C</td>\n",
       "      <td>70.0</td>\n",
       "      <td>69.0</td>\n",
       "      <td>92.0</td>\n",
       "      <td>161.0</td>\n",
       "      <td>...</td>\n",
       "      <td>16.0</td>\n",
       "      <td>27.0</td>\n",
       "      <td>33.0</td>\n",
       "      <td>3.0</td>\n",
       "      <td>3.0</td>\n",
       "      <td>9.0</td>\n",
       "      <td>1.0</td>\n",
       "      <td>0.0</td>\n",
       "      <td>2.0</td>\n",
       "      <td>78.0</td>\n",
       "    </tr>\n",
       "    <tr>\n",
       "      <th>23616</th>\n",
       "      <td>lemiema01</td>\n",
       "      <td>1996</td>\n",
       "      <td>1</td>\n",
       "      <td>PIT</td>\n",
       "      <td>NHL</td>\n",
       "      <td>L</td>\n",
       "      <td>76.0</td>\n",
       "      <td>50.0</td>\n",
       "      <td>72.0</td>\n",
       "      <td>122.0</td>\n",
       "      <td>...</td>\n",
       "      <td>3.0</td>\n",
       "      <td>6.0</td>\n",
       "      <td>4.0</td>\n",
       "      <td>-4.0</td>\n",
       "      <td>0.0</td>\n",
       "      <td>2.0</td>\n",
       "      <td>0.0</td>\n",
       "      <td>0.0</td>\n",
       "      <td>0.0</td>\n",
       "      <td>19.0</td>\n",
       "    </tr>\n",
       "    <tr>\n",
       "      <th>23617</th>\n",
       "      <td>lemiema01</td>\n",
       "      <td>2000</td>\n",
       "      <td>1</td>\n",
       "      <td>PIT</td>\n",
       "      <td>NHL</td>\n",
       "      <td>C</td>\n",
       "      <td>43.0</td>\n",
       "      <td>35.0</td>\n",
       "      <td>41.0</td>\n",
       "      <td>76.0</td>\n",
       "      <td>...</td>\n",
       "      <td>11.0</td>\n",
       "      <td>17.0</td>\n",
       "      <td>4.0</td>\n",
       "      <td>4.0</td>\n",
       "      <td>1.0</td>\n",
       "      <td>5.0</td>\n",
       "      <td>0.0</td>\n",
       "      <td>1.0</td>\n",
       "      <td>3.0</td>\n",
       "      <td>39.0</td>\n",
       "    </tr>\n",
       "    <tr>\n",
       "      <th>23618</th>\n",
       "      <td>lemiema01</td>\n",
       "      <td>2001</td>\n",
       "      <td>1</td>\n",
       "      <td>PIT</td>\n",
       "      <td>NHL</td>\n",
       "      <td>C</td>\n",
       "      <td>24.0</td>\n",
       "      <td>6.0</td>\n",
       "      <td>25.0</td>\n",
       "      <td>31.0</td>\n",
       "      <td>...</td>\n",
       "      <td>NaN</td>\n",
       "      <td>NaN</td>\n",
       "      <td>NaN</td>\n",
       "      <td>NaN</td>\n",
       "      <td>NaN</td>\n",
       "      <td>NaN</td>\n",
       "      <td>NaN</td>\n",
       "      <td>NaN</td>\n",
       "      <td>NaN</td>\n",
       "      <td>NaN</td>\n",
       "    </tr>\n",
       "    <tr>\n",
       "      <th>23619</th>\n",
       "      <td>lemiema01</td>\n",
       "      <td>2002</td>\n",
       "      <td>1</td>\n",
       "      <td>PIT</td>\n",
       "      <td>NHL</td>\n",
       "      <td>C</td>\n",
       "      <td>67.0</td>\n",
       "      <td>28.0</td>\n",
       "      <td>63.0</td>\n",
       "      <td>91.0</td>\n",
       "      <td>...</td>\n",
       "      <td>NaN</td>\n",
       "      <td>NaN</td>\n",
       "      <td>NaN</td>\n",
       "      <td>NaN</td>\n",
       "      <td>NaN</td>\n",
       "      <td>NaN</td>\n",
       "      <td>NaN</td>\n",
       "      <td>NaN</td>\n",
       "      <td>NaN</td>\n",
       "      <td>NaN</td>\n",
       "    </tr>\n",
       "    <tr>\n",
       "      <th>23620</th>\n",
       "      <td>lemiema01</td>\n",
       "      <td>2003</td>\n",
       "      <td>1</td>\n",
       "      <td>PIT</td>\n",
       "      <td>NHL</td>\n",
       "      <td>C</td>\n",
       "      <td>10.0</td>\n",
       "      <td>1.0</td>\n",
       "      <td>8.0</td>\n",
       "      <td>9.0</td>\n",
       "      <td>...</td>\n",
       "      <td>NaN</td>\n",
       "      <td>NaN</td>\n",
       "      <td>NaN</td>\n",
       "      <td>NaN</td>\n",
       "      <td>NaN</td>\n",
       "      <td>NaN</td>\n",
       "      <td>NaN</td>\n",
       "      <td>NaN</td>\n",
       "      <td>NaN</td>\n",
       "      <td>NaN</td>\n",
       "    </tr>\n",
       "    <tr>\n",
       "      <th>23621</th>\n",
       "      <td>lemiema01</td>\n",
       "      <td>2005</td>\n",
       "      <td>1</td>\n",
       "      <td>PIT</td>\n",
       "      <td>NHL</td>\n",
       "      <td>C</td>\n",
       "      <td>26.0</td>\n",
       "      <td>7.0</td>\n",
       "      <td>15.0</td>\n",
       "      <td>22.0</td>\n",
       "      <td>...</td>\n",
       "      <td>NaN</td>\n",
       "      <td>NaN</td>\n",
       "      <td>NaN</td>\n",
       "      <td>NaN</td>\n",
       "      <td>NaN</td>\n",
       "      <td>NaN</td>\n",
       "      <td>NaN</td>\n",
       "      <td>NaN</td>\n",
       "      <td>NaN</td>\n",
       "      <td>NaN</td>\n",
       "    </tr>\n",
       "  </tbody>\n",
       "</table>\n",
       "<p>17 rows × 31 columns</p>\n",
       "</div>"
      ],
      "text/plain": [
       "        playerID  year  stint tmID lgID pos   GP    G     A   Pts  ...  PostA  \\\n",
       "23605  lemiema01  1984      1  PIT  NHL   C 73.0 43.0  57.0 100.0  ...    NaN   \n",
       "23606  lemiema01  1985      1  PIT  NHL   C 79.0 48.0  93.0 141.0  ...    NaN   \n",
       "23607  lemiema01  1986      1  PIT  NHL   C 63.0 54.0  53.0 107.0  ...    NaN   \n",
       "23608  lemiema01  1987      1  PIT  NHL   C 77.0 70.0  98.0 168.0  ...    NaN   \n",
       "23609  lemiema01  1988      1  PIT  NHL   C 76.0 85.0 114.0 199.0  ...    7.0   \n",
       "23610  lemiema01  1989      1  PIT  NHL   C 59.0 45.0  78.0 123.0  ...    NaN   \n",
       "23611  lemiema01  1990      1  PIT  NHL   C 26.0 19.0  26.0  45.0  ...   28.0   \n",
       "23612  lemiema01  1991      1  PIT  NHL   C 64.0 44.0  87.0 131.0  ...   18.0   \n",
       "23613  lemiema01  1992      1  PIT  NHL   C 60.0 69.0  91.0 160.0  ...   10.0   \n",
       "23614  lemiema01  1993      1  PIT  NHL   C 22.0 17.0  20.0  37.0  ...    3.0   \n",
       "23615  lemiema01  1995      1  PIT  NHL   C 70.0 69.0  92.0 161.0  ...   16.0   \n",
       "23616  lemiema01  1996      1  PIT  NHL   L 76.0 50.0  72.0 122.0  ...    3.0   \n",
       "23617  lemiema01  2000      1  PIT  NHL   C 43.0 35.0  41.0  76.0  ...   11.0   \n",
       "23618  lemiema01  2001      1  PIT  NHL   C 24.0  6.0  25.0  31.0  ...    NaN   \n",
       "23619  lemiema01  2002      1  PIT  NHL   C 67.0 28.0  63.0  91.0  ...    NaN   \n",
       "23620  lemiema01  2003      1  PIT  NHL   C 10.0  1.0   8.0   9.0  ...    NaN   \n",
       "23621  lemiema01  2005      1  PIT  NHL   C 26.0  7.0  15.0  22.0  ...    NaN   \n",
       "\n",
       "       PostPts  PostPIM  Post+/-  PostPPG  PostPPA  PostSHG  PostSHA  PostGWG  \\\n",
       "23605      NaN      NaN      NaN      NaN      NaN      NaN      NaN      NaN   \n",
       "23606      NaN      NaN      NaN      NaN      NaN      NaN      NaN      NaN   \n",
       "23607      NaN      NaN      NaN      NaN      NaN      NaN      NaN      NaN   \n",
       "23608      NaN      NaN      NaN      NaN      NaN      NaN      NaN      NaN   \n",
       "23609     19.0     16.0     -1.0      7.0      3.0      1.0      0.0      0.0   \n",
       "23610      NaN      NaN      NaN      NaN      NaN      NaN      NaN      NaN   \n",
       "23611     44.0     16.0     14.0      6.0     13.0      2.0      0.0      0.0   \n",
       "23612     34.0      2.0      6.0      8.0     10.0      2.0      0.0      5.0   \n",
       "23613     18.0     10.0      2.0      3.0      6.0      1.0      0.0      1.0   \n",
       "23614      7.0      2.0     -4.0      1.0      1.0      0.0      0.0      0.0   \n",
       "23615     27.0     33.0      3.0      3.0      9.0      1.0      0.0      2.0   \n",
       "23616      6.0      4.0     -4.0      0.0      2.0      0.0      0.0      0.0   \n",
       "23617     17.0      4.0      4.0      1.0      5.0      0.0      1.0      3.0   \n",
       "23618      NaN      NaN      NaN      NaN      NaN      NaN      NaN      NaN   \n",
       "23619      NaN      NaN      NaN      NaN      NaN      NaN      NaN      NaN   \n",
       "23620      NaN      NaN      NaN      NaN      NaN      NaN      NaN      NaN   \n",
       "23621      NaN      NaN      NaN      NaN      NaN      NaN      NaN      NaN   \n",
       "\n",
       "       PostSOG  \n",
       "23605      NaN  \n",
       "23606      NaN  \n",
       "23607      NaN  \n",
       "23608      NaN  \n",
       "23609     41.0  \n",
       "23610      NaN  \n",
       "23611     93.0  \n",
       "23612     69.0  \n",
       "23613     40.0  \n",
       "23614     23.0  \n",
       "23615     78.0  \n",
       "23616     19.0  \n",
       "23617     39.0  \n",
       "23618      NaN  \n",
       "23619      NaN  \n",
       "23620      NaN  \n",
       "23621      NaN  \n",
       "\n",
       "[17 rows x 31 columns]"
      ]
     },
     "execution_count": 20,
     "metadata": {},
     "output_type": "execute_result"
    }
   ],
   "source": [
    "# observe stats scoring stats related to the player\n",
    "lemieux_score = scoring.loc[scoring['playerID'] == 'lemiema01']\n",
    "lemieux_score"
   ]
  },
  {
   "cell_type": "code",
   "execution_count": 21,
   "id": "realistic-gather",
   "metadata": {},
   "outputs": [
    {
     "data": {
      "text/plain": [
       "199.0"
      ]
     },
     "execution_count": 21,
     "metadata": {},
     "output_type": "execute_result"
    }
   ],
   "source": [
    "# maximum number of points scored in a year\n",
    "lemieux_score['Pts'].max()"
   ]
  },
  {
   "cell_type": "code",
   "execution_count": 22,
   "id": "international-insertion",
   "metadata": {},
   "outputs": [
    {
     "data": {
      "text/plain": [
       "40.588235294117645"
      ]
     },
     "execution_count": 22,
     "metadata": {},
     "output_type": "execute_result"
    }
   ],
   "source": [
    "# average goals in a year\n",
    "statistics.mean(lemieux_score['G'])"
   ]
  },
  {
   "cell_type": "code",
   "execution_count": 23,
   "id": "respected-server",
   "metadata": {},
   "outputs": [
    {
     "data": {
      "text/plain": [
       "6.764705882352941"
      ]
     },
     "execution_count": 23,
     "metadata": {},
     "output_type": "execute_result"
    }
   ],
   "source": [
    "# average +/- score in a year\n",
    "statistics.mean(lemieux_score['+/-'])"
   ]
  },
  {
   "cell_type": "code",
   "execution_count": 24,
   "id": "statutory-course",
   "metadata": {},
   "outputs": [
    {
     "data": {
      "text/plain": [
       "60.76470588235294"
      ]
     },
     "execution_count": 24,
     "metadata": {},
     "output_type": "execute_result"
    }
   ],
   "source": [
    "# average assists in a year\n",
    "statistics.mean(lemieux_score['A'])"
   ]
  },
  {
   "cell_type": "code",
   "execution_count": 25,
   "id": "mechanical-sessions",
   "metadata": {},
   "outputs": [
    {
     "data": {
      "text/plain": [
       "53.8235294117647"
      ]
     },
     "execution_count": 25,
     "metadata": {},
     "output_type": "execute_result"
    }
   ],
   "source": [
    "# average games played in a season\n",
    "statistics.mean(lemieux_score['GP'])"
   ]
  },
  {
   "cell_type": "markdown",
   "id": "accomplished-apartment",
   "metadata": {},
   "source": [
    "**Engineering Features**"
   ]
  },
  {
   "cell_type": "code",
   "execution_count": 36,
   "id": "scientific-cannon",
   "metadata": {},
   "outputs": [
    {
     "data": {
      "text/plain": [
       "1.15"
      ]
     },
     "execution_count": 36,
     "metadata": {},
     "output_type": "execute_result"
    }
   ],
   "source": [
    "# engineer a column of number of goals out of games played\n",
    "pd.options.mode.chained_assignment = None  # default='warn'\n",
    "lemieux_score['G/GP'] = lemieux_score.apply(lambda x: x['G'] if x['G'] < 1 else x['G']/x['GP'], axis=1)\n",
    "lemieux_score['G/GP'].max()"
   ]
  },
  {
   "cell_type": "code",
   "execution_count": 37,
   "id": "macro-construction",
   "metadata": {},
   "outputs": [
    {
     "data": {
      "text/plain": [
       "0.687041349840491"
      ]
     },
     "execution_count": 37,
     "metadata": {},
     "output_type": "execute_result"
    }
   ],
   "source": [
    "# average goals per game\n",
    "statistics.mean(lemieux_score['G/GP'])"
   ]
  },
  {
   "cell_type": "code",
   "execution_count": 38,
   "id": "modified-harbor",
   "metadata": {},
   "outputs": [
    {
     "data": {
      "text/plain": [
       "1.5166666666666666"
      ]
     },
     "execution_count": 38,
     "metadata": {},
     "output_type": "execute_result"
    }
   ],
   "source": [
    "# engineer a column of number of assists out of games played\n",
    "pd.options.mode.chained_assignment = None  # default='warn'\n",
    "lemieux_score['A/GP'] = lemieux_score.apply(lambda x: x['A'] if x['A'] < 1 else x['A']/x['GP'], axis=1)\n",
    "lemieux_score['A/GP'].max()"
   ]
  },
  {
   "cell_type": "code",
   "execution_count": 39,
   "id": "incomplete-check",
   "metadata": {},
   "outputs": [
    {
     "data": {
      "text/plain": [
       "2.6666666666666665"
      ]
     },
     "execution_count": 39,
     "metadata": {},
     "output_type": "execute_result"
    }
   ],
   "source": [
    "# engineer a column of number of assists out of games played\n",
    "pd.options.mode.chained_assignment = None  # default='warn'\n",
    "lemieux_score['Pts/GP'] = lemieux_score.apply(lambda x: x['Pts'] if x['Pts'] < 1 else x['Pts']/x['GP'], axis=1)\n",
    "lemieux_score['Pts/GP'].max()"
   ]
  },
  {
   "cell_type": "code",
   "execution_count": 40,
   "id": "gentle-asset",
   "metadata": {},
   "outputs": [
    {
     "data": {
      "text/plain": [
       "0.8190506868270242"
      ]
     },
     "execution_count": 40,
     "metadata": {},
     "output_type": "execute_result"
    }
   ],
   "source": [
    "# average goals up to 1997\n",
    "up_to_1997 = lemieux_score.loc[lemieux_score['year'] <= 1997]\n",
    "statistics.mean(up_to_1997['G/GP'])"
   ]
  },
  {
   "cell_type": "code",
   "execution_count": 41,
   "id": "compound-hundred",
   "metadata": {},
   "outputs": [
    {
     "data": {
      "text/plain": [
       "0.3702189410728113"
      ]
     },
     "execution_count": 41,
     "metadata": {},
     "output_type": "execute_result"
    }
   ],
   "source": [
    "# average goals up starting 2000\n",
    "from_2000 = lemieux_score.loc[lemieux_score['year'] >= 2000]\n",
    "statistics.mean(from_2000['G/GP'])"
   ]
  },
  {
   "cell_type": "code",
   "execution_count": 32,
   "id": "announced-canon",
   "metadata": {},
   "outputs": [
    {
     "data": {
      "text/plain": [
       "1.7607608471478564"
      ]
     },
     "execution_count": 32,
     "metadata": {},
     "output_type": "execute_result"
    }
   ],
   "source": [
    "# average points per game\n",
    "statistics.mean(lemieux_score['Pts/GP'])"
   ]
  },
  {
   "cell_type": "code",
   "execution_count": 42,
   "id": "radical-thursday",
   "metadata": {},
   "outputs": [
    {
     "data": {
      "text/plain": [
       "1.980788589417004"
      ]
     },
     "execution_count": 42,
     "metadata": {},
     "output_type": "execute_result"
    }
   ],
   "source": [
    "# average points up to 1997\n",
    "statistics.mean(up_to_1997['Pts/GP'])"
   ]
  },
  {
   "cell_type": "code",
   "execution_count": 43,
   "id": "suburban-membrane",
   "metadata": {},
   "outputs": [
    {
     "data": {
      "text/plain": [
       "1.232694265701902"
      ]
     },
     "execution_count": 43,
     "metadata": {},
     "output_type": "execute_result"
    }
   ],
   "source": [
    "# average points starting 2000\n",
    "statistics.mean(from_2000['Pts/GP'])"
   ]
  },
  {
   "cell_type": "code",
   "execution_count": 44,
   "id": "sexual-vault",
   "metadata": {},
   "outputs": [
    {
     "data": {
      "image/png": "[encoded data removed]",
      "text/plain": [
       "<Figure size 576x360 with 1 Axes>"
      ]
     },
     "metadata": {},
     "output_type": "display_data"
    }
   ],
   "source": [
    "# construct goals vs games chart\n",
    "style.use('seaborn-darkgrid')\n",
    "style.use('seaborn-muted')\n",
    "sns.set_palette(sns.dark_palette('#69d', 10))\n",
    "plt.figure(figsize=(8,5))\n",
    "sns.barplot(data=lemieux_score, x=\"year\", y=\"G/GP\", alpha=0.8)\n",
    "plt.title('Lemieux Goals per Games Played, 1994-2005', fontsize=14)\n",
    "plt.xlabel('years', fontsize=12)\n",
    "plt.ylabel('Goals / Games', fontsize=12)\n",
    "plt.show\n",
    "plt.savefig('charts/GoalsVsGames');"
   ]
  },
  {
   "cell_type": "code",
   "execution_count": 45,
   "id": "lined-melbourne",
   "metadata": {},
   "outputs": [
    {
     "data": {
      "image/png": "[encoded data removed]",
      "text/plain": [
       "<Figure size 576x360 with 1 Axes>"
      ]
     },
     "metadata": {},
     "output_type": "display_data"
    }
   ],
   "source": [
    "# construct assists vs games chart\n",
    "style.use('seaborn-darkgrid')\n",
    "style.use('seaborn-muted')\n",
    "sns.set_palette(sns.dark_palette('#69d', 10))\n",
    "plt.figure(figsize=(8,5))\n",
    "sns.barplot(data=lemieux_score, x=\"year\", y=\"A/GP\", alpha=0.8)\n",
    "plt.title('Lemieux Assists per Games Played, 1984-2005', fontsize=14)\n",
    "plt.xlabel('years', fontsize=12)\n",
    "plt.ylabel('Assists / Games', fontsize=12)\n",
    "plt.show\n",
    "plt.savefig('charts/AssistsVsGames');"
   ]
  },
  {
   "cell_type": "code",
   "execution_count": 46,
   "id": "loaded-economics",
   "metadata": {},
   "outputs": [
    {
     "data": {
      "image/png": "[encoded data removed]",
      "text/plain": [
       "<Figure size 576x360 with 1 Axes>"
      ]
     },
     "metadata": {},
     "output_type": "display_data"
    }
   ],
   "source": [
    "# construct pts vs games chart\n",
    "style.use('seaborn-darkgrid')\n",
    "style.use('seaborn-muted')\n",
    "sns.set_palette(sns.dark_palette('#69d', 10))\n",
    "plt.figure(figsize=(8,5))\n",
    "sns.barplot(data=lemieux_score, x=\"year\", y=\"Pts/GP\", alpha=0.8)\n",
    "plt.title('Lemieux Points won vs Games Played, 1984-2005', fontsize=14)\n",
    "plt.xlabel('years', fontsize=12)\n",
    "plt.ylabel('Points / Games', fontsize=12)\n",
    "plt.show\n",
    "plt.savefig('charts/PointsVsGames');"
   ]
  },
  {
   "cell_type": "code",
   "execution_count": 47,
   "id": "appointed-affect",
   "metadata": {},
   "outputs": [
    {
     "data": {
      "text/plain": [
       "0.687041349840491"
      ]
     },
     "execution_count": 47,
     "metadata": {},
     "output_type": "execute_result"
    }
   ],
   "source": [
    "# average goals per game\n",
    "statistics.mean(lemieux_score['G'] / lemieux_score['GP'])"
   ]
  },
  {
   "cell_type": "code",
   "execution_count": 48,
   "id": "played-personal",
   "metadata": {},
   "outputs": [
    {
     "data": {
      "text/plain": [
       "1.0737194973073654"
      ]
     },
     "execution_count": 48,
     "metadata": {},
     "output_type": "execute_result"
    }
   ],
   "source": [
    "# average assists per game\n",
    "statistics.mean(lemieux_score['A'] / lemieux_score['GP'])"
   ]
  },
  {
   "cell_type": "code",
   "execution_count": 49,
   "id": "excess-centre",
   "metadata": {},
   "outputs": [
    {
     "data": {
      "text/plain": [
       "1.7607608471478564"
      ]
     },
     "execution_count": 49,
     "metadata": {},
     "output_type": "execute_result"
    }
   ],
   "source": [
    "statistics.mean(lemieux_score['Pts'] / lemieux_score['GP'])"
   ]
  },
  {
   "cell_type": "markdown",
   "id": "expected-maple",
   "metadata": {},
   "source": [
    "**Shootouts**"
   ]
  },
  {
   "cell_type": "code",
   "execution_count": 50,
   "id": "unsigned-dubai",
   "metadata": {},
   "outputs": [],
   "source": [
    "# read scoring shootouts csv file\n",
    "shoot = pd.read_csv('data/ScoringShootout.csv')"
   ]
  },
  {
   "cell_type": "code",
   "execution_count": 51,
   "id": "confirmed-crystal",
   "metadata": {},
   "outputs": [],
   "source": [
    "# pd.options.display.float_format = '{:.2%}'.format"
   ]
  },
  {
   "cell_type": "code",
   "execution_count": 52,
   "id": "prescribed-gateway",
   "metadata": {},
   "outputs": [
    {
     "data": {
      "text/html": [
       "<div>\n",
       "<style scoped>\n",
       "    .dataframe tbody tr th:only-of-type {\n",
       "        vertical-align: middle;\n",
       "    }\n",
       "\n",
       "    .dataframe tbody tr th {\n",
       "        vertical-align: top;\n",
       "    }\n",
       "\n",
       "    .dataframe thead th {\n",
       "        text-align: right;\n",
       "    }\n",
       "</style>\n",
       "<table border=\"1\" class=\"dataframe\">\n",
       "  <thead>\n",
       "    <tr style=\"text-align: right;\">\n",
       "      <th></th>\n",
       "      <th>playerID</th>\n",
       "      <th>year</th>\n",
       "      <th>stint</th>\n",
       "      <th>tmID</th>\n",
       "      <th>S</th>\n",
       "      <th>G</th>\n",
       "      <th>GDG</th>\n",
       "    </tr>\n",
       "  </thead>\n",
       "  <tbody>\n",
       "    <tr>\n",
       "      <th>1020</th>\n",
       "      <td>lemiema01</td>\n",
       "      <td>2005</td>\n",
       "      <td>1</td>\n",
       "      <td>PIT</td>\n",
       "      <td>3</td>\n",
       "      <td>0</td>\n",
       "      <td>0</td>\n",
       "    </tr>\n",
       "  </tbody>\n",
       "</table>\n",
       "</div>"
      ],
      "text/plain": [
       "       playerID  year  stint tmID  S  G  GDG\n",
       "1020  lemiema01  2005      1  PIT  3  0    0"
      ]
     },
     "execution_count": 52,
     "metadata": {},
     "output_type": "execute_result"
    }
   ],
   "source": [
    "# filter stats related to Lemieux (the data only starts in 2005 and not enough to make any conclusions)\n",
    "lemieux_shoot = shoot.loc[shoot['playerID'] == 'lemiema01']\n",
    "lemieux_shoot"
   ]
  },
  {
   "cell_type": "markdown",
   "id": "academic-endorsement",
   "metadata": {},
   "source": [
    "#### Pittsburgh Penguins Stats and Awards"
   ]
  },
  {
   "cell_type": "markdown",
   "id": "swedish-factory",
   "metadata": {},
   "source": [
    "**Postseason Series Wins & Losses**"
   ]
  },
  {
   "cell_type": "code",
   "execution_count": 53,
   "id": "important-school",
   "metadata": {},
   "outputs": [],
   "source": [
    "# read series post csv file\n",
    "series = pd.read_csv('data/SeriesPost.csv')"
   ]
  },
  {
   "cell_type": "code",
   "execution_count": 54,
   "id": "protecting-memphis",
   "metadata": {},
   "outputs": [
    {
     "data": {
      "text/html": [
       "<div>\n",
       "<style scoped>\n",
       "    .dataframe tbody tr th:only-of-type {\n",
       "        vertical-align: middle;\n",
       "    }\n",
       "\n",
       "    .dataframe tbody tr th {\n",
       "        vertical-align: top;\n",
       "    }\n",
       "\n",
       "    .dataframe thead th {\n",
       "        text-align: right;\n",
       "    }\n",
       "</style>\n",
       "<table border=\"1\" class=\"dataframe\">\n",
       "  <thead>\n",
       "    <tr style=\"text-align: right;\">\n",
       "      <th></th>\n",
       "      <th>year</th>\n",
       "      <th>round</th>\n",
       "      <th>series</th>\n",
       "      <th>tmIDWinner</th>\n",
       "      <th>lgIDWinner</th>\n",
       "      <th>tmIDLoser</th>\n",
       "      <th>lgIDLoser</th>\n",
       "      <th>W</th>\n",
       "      <th>L</th>\n",
       "      <th>T</th>\n",
       "      <th>GoalsWinner</th>\n",
       "      <th>GoalsLoser</th>\n",
       "      <th>note</th>\n",
       "    </tr>\n",
       "  </thead>\n",
       "  <tbody>\n",
       "    <tr>\n",
       "      <th>218</th>\n",
       "      <td>1969</td>\n",
       "      <td>QF</td>\n",
       "      <td>D</td>\n",
       "      <td>PIT</td>\n",
       "      <td>NHL</td>\n",
       "      <td>OAK</td>\n",
       "      <td>NHL</td>\n",
       "      <td>4</td>\n",
       "      <td>0</td>\n",
       "      <td>0</td>\n",
       "      <td>13</td>\n",
       "      <td>6</td>\n",
       "      <td>NaN</td>\n",
       "    </tr>\n",
       "    <tr>\n",
       "      <th>267</th>\n",
       "      <td>1974</td>\n",
       "      <td>Pre</td>\n",
       "      <td>C</td>\n",
       "      <td>PIT</td>\n",
       "      <td>NHL</td>\n",
       "      <td>STL</td>\n",
       "      <td>NHL</td>\n",
       "      <td>2</td>\n",
       "      <td>0</td>\n",
       "      <td>0</td>\n",
       "      <td>9</td>\n",
       "      <td>6</td>\n",
       "      <td>NaN</td>\n",
       "    </tr>\n",
       "    <tr>\n",
       "      <th>340</th>\n",
       "      <td>1978</td>\n",
       "      <td>Pre</td>\n",
       "      <td>D</td>\n",
       "      <td>PIT</td>\n",
       "      <td>NHL</td>\n",
       "      <td>BUF</td>\n",
       "      <td>NHL</td>\n",
       "      <td>2</td>\n",
       "      <td>1</td>\n",
       "      <td>0</td>\n",
       "      <td>9</td>\n",
       "      <td>9</td>\n",
       "      <td>NaN</td>\n",
       "    </tr>\n",
       "    <tr>\n",
       "      <th>490</th>\n",
       "      <td>1988</td>\n",
       "      <td>DSF</td>\n",
       "      <td>D</td>\n",
       "      <td>PIT</td>\n",
       "      <td>NHL</td>\n",
       "      <td>NYR</td>\n",
       "      <td>NHL</td>\n",
       "      <td>4</td>\n",
       "      <td>0</td>\n",
       "      <td>0</td>\n",
       "      <td>19</td>\n",
       "      <td>11</td>\n",
       "      <td>NaN</td>\n",
       "    </tr>\n",
       "    <tr>\n",
       "      <th>519</th>\n",
       "      <td>1990</td>\n",
       "      <td>DSF</td>\n",
       "      <td>C</td>\n",
       "      <td>PIT</td>\n",
       "      <td>NHL</td>\n",
       "      <td>NJD</td>\n",
       "      <td>NHL</td>\n",
       "      <td>4</td>\n",
       "      <td>3</td>\n",
       "      <td>0</td>\n",
       "      <td>21</td>\n",
       "      <td>21</td>\n",
       "      <td>NaN</td>\n",
       "    </tr>\n",
       "  </tbody>\n",
       "</table>\n",
       "</div>"
      ],
      "text/plain": [
       "     year round series tmIDWinner lgIDWinner tmIDLoser lgIDLoser  W  L  T  \\\n",
       "218  1969    QF      D        PIT        NHL       OAK       NHL  4  0  0   \n",
       "267  1974   Pre      C        PIT        NHL       STL       NHL  2  0  0   \n",
       "340  1978   Pre      D        PIT        NHL       BUF       NHL  2  1  0   \n",
       "490  1988   DSF      D        PIT        NHL       NYR       NHL  4  0  0   \n",
       "519  1990   DSF      C        PIT        NHL       NJD       NHL  4  3  0   \n",
       "\n",
       "     GoalsWinner  GoalsLoser note  \n",
       "218           13           6  NaN  \n",
       "267            9           6  NaN  \n",
       "340            9           9  NaN  \n",
       "490           19          11  NaN  \n",
       "519           21          21  NaN  "
      ]
     },
     "execution_count": 54,
     "metadata": {},
     "output_type": "execute_result"
    }
   ],
   "source": [
    "# see Penguins' wins\n",
    "pit_wins = series.loc[series['tmIDWinner'] == 'PIT']\n",
    "pit_wins.head()"
   ]
  },
  {
   "cell_type": "code",
   "execution_count": 55,
   "id": "grave-reaction",
   "metadata": {},
   "outputs": [
    {
     "data": {
      "text/html": [
       "<div>\n",
       "<style scoped>\n",
       "    .dataframe tbody tr th:only-of-type {\n",
       "        vertical-align: middle;\n",
       "    }\n",
       "\n",
       "    .dataframe tbody tr th {\n",
       "        vertical-align: top;\n",
       "    }\n",
       "\n",
       "    .dataframe thead th {\n",
       "        text-align: right;\n",
       "    }\n",
       "</style>\n",
       "<table border=\"1\" class=\"dataframe\">\n",
       "  <thead>\n",
       "    <tr style=\"text-align: right;\">\n",
       "      <th></th>\n",
       "      <th>year</th>\n",
       "      <th>round</th>\n",
       "      <th>series</th>\n",
       "      <th>tmIDWinner</th>\n",
       "      <th>lgIDWinner</th>\n",
       "      <th>tmIDLoser</th>\n",
       "      <th>lgIDLoser</th>\n",
       "      <th>W</th>\n",
       "      <th>L</th>\n",
       "      <th>T</th>\n",
       "      <th>GoalsWinner</th>\n",
       "      <th>GoalsLoser</th>\n",
       "      <th>note</th>\n",
       "    </tr>\n",
       "  </thead>\n",
       "  <tbody>\n",
       "    <tr>\n",
       "      <th>490</th>\n",
       "      <td>1988</td>\n",
       "      <td>DSF</td>\n",
       "      <td>D</td>\n",
       "      <td>PIT</td>\n",
       "      <td>NHL</td>\n",
       "      <td>NYR</td>\n",
       "      <td>NHL</td>\n",
       "      <td>4</td>\n",
       "      <td>0</td>\n",
       "      <td>0</td>\n",
       "      <td>19</td>\n",
       "      <td>11</td>\n",
       "      <td>NaN</td>\n",
       "    </tr>\n",
       "    <tr>\n",
       "      <th>519</th>\n",
       "      <td>1990</td>\n",
       "      <td>DSF</td>\n",
       "      <td>C</td>\n",
       "      <td>PIT</td>\n",
       "      <td>NHL</td>\n",
       "      <td>NJD</td>\n",
       "      <td>NHL</td>\n",
       "      <td>4</td>\n",
       "      <td>3</td>\n",
       "      <td>0</td>\n",
       "      <td>21</td>\n",
       "      <td>21</td>\n",
       "      <td>NaN</td>\n",
       "    </tr>\n",
       "    <tr>\n",
       "      <th>526</th>\n",
       "      <td>1990</td>\n",
       "      <td>DF</td>\n",
       "      <td>J</td>\n",
       "      <td>PIT</td>\n",
       "      <td>NHL</td>\n",
       "      <td>WAS</td>\n",
       "      <td>NHL</td>\n",
       "      <td>4</td>\n",
       "      <td>1</td>\n",
       "      <td>0</td>\n",
       "      <td>19</td>\n",
       "      <td>13</td>\n",
       "      <td>NaN</td>\n",
       "    </tr>\n",
       "    <tr>\n",
       "      <th>529</th>\n",
       "      <td>1990</td>\n",
       "      <td>CF</td>\n",
       "      <td>M</td>\n",
       "      <td>PIT</td>\n",
       "      <td>NHL</td>\n",
       "      <td>BOS</td>\n",
       "      <td>NHL</td>\n",
       "      <td>4</td>\n",
       "      <td>2</td>\n",
       "      <td>0</td>\n",
       "      <td>27</td>\n",
       "      <td>18</td>\n",
       "      <td>NaN</td>\n",
       "    </tr>\n",
       "    <tr>\n",
       "      <th>531</th>\n",
       "      <td>1990</td>\n",
       "      <td>SCF</td>\n",
       "      <td>O</td>\n",
       "      <td>PIT</td>\n",
       "      <td>NHL</td>\n",
       "      <td>MNS</td>\n",
       "      <td>NHL</td>\n",
       "      <td>4</td>\n",
       "      <td>2</td>\n",
       "      <td>0</td>\n",
       "      <td>28</td>\n",
       "      <td>16</td>\n",
       "      <td>NaN</td>\n",
       "    </tr>\n",
       "  </tbody>\n",
       "</table>\n",
       "</div>"
      ],
      "text/plain": [
       "     year round series tmIDWinner lgIDWinner tmIDLoser lgIDLoser  W  L  T  \\\n",
       "490  1988   DSF      D        PIT        NHL       NYR       NHL  4  0  0   \n",
       "519  1990   DSF      C        PIT        NHL       NJD       NHL  4  3  0   \n",
       "526  1990    DF      J        PIT        NHL       WAS       NHL  4  1  0   \n",
       "529  1990    CF      M        PIT        NHL       BOS       NHL  4  2  0   \n",
       "531  1990   SCF      O        PIT        NHL       MNS       NHL  4  2  0   \n",
       "\n",
       "     GoalsWinner  GoalsLoser note  \n",
       "490           19          11  NaN  \n",
       "519           21          21  NaN  \n",
       "526           19          13  NaN  \n",
       "529           27          18  NaN  \n",
       "531           28          16  NaN  "
      ]
     },
     "execution_count": 55,
     "metadata": {},
     "output_type": "execute_result"
    }
   ],
   "source": [
    "# filter out years between 1984 - 2005\n",
    "pit_wins = pit_wins.loc[pit_wins['year'] >= 1984]\n",
    "pit_wins = pit_wins.loc[pit_wins['year'] <= 2005]\n",
    "pit_wins.head()"
   ]
  },
  {
   "cell_type": "code",
   "execution_count": 57,
   "id": "american-malpractice",
   "metadata": {},
   "outputs": [
    {
     "data": {
      "text/html": [
       "<div>\n",
       "<style scoped>\n",
       "    .dataframe tbody tr th:only-of-type {\n",
       "        vertical-align: middle;\n",
       "    }\n",
       "\n",
       "    .dataframe tbody tr th {\n",
       "        vertical-align: top;\n",
       "    }\n",
       "\n",
       "    .dataframe thead th {\n",
       "        text-align: right;\n",
       "    }\n",
       "</style>\n",
       "<table border=\"1\" class=\"dataframe\">\n",
       "  <thead>\n",
       "    <tr style=\"text-align: right;\">\n",
       "      <th></th>\n",
       "      <th>year</th>\n",
       "      <th>round</th>\n",
       "      <th>series</th>\n",
       "      <th>tmIDWinner</th>\n",
       "      <th>lgIDWinner</th>\n",
       "      <th>tmIDLoser</th>\n",
       "      <th>lgIDLoser</th>\n",
       "      <th>W</th>\n",
       "      <th>L</th>\n",
       "      <th>T</th>\n",
       "      <th>GoalsWinner</th>\n",
       "      <th>GoalsLoser</th>\n",
       "      <th>note</th>\n",
       "    </tr>\n",
       "  </thead>\n",
       "  <tbody>\n",
       "    <tr>\n",
       "      <th>220</th>\n",
       "      <td>1969</td>\n",
       "      <td>SF</td>\n",
       "      <td>F</td>\n",
       "      <td>STL</td>\n",
       "      <td>NHL</td>\n",
       "      <td>PIT</td>\n",
       "      <td>NHL</td>\n",
       "      <td>4</td>\n",
       "      <td>2</td>\n",
       "      <td>0</td>\n",
       "      <td>19</td>\n",
       "      <td>10</td>\n",
       "      <td>NaN</td>\n",
       "    </tr>\n",
       "    <tr>\n",
       "      <th>231</th>\n",
       "      <td>1971</td>\n",
       "      <td>QF</td>\n",
       "      <td>C</td>\n",
       "      <td>CHI</td>\n",
       "      <td>NHL</td>\n",
       "      <td>PIT</td>\n",
       "      <td>NHL</td>\n",
       "      <td>4</td>\n",
       "      <td>0</td>\n",
       "      <td>0</td>\n",
       "      <td>14</td>\n",
       "      <td>8</td>\n",
       "      <td>NaN</td>\n",
       "    </tr>\n",
       "    <tr>\n",
       "      <th>272</th>\n",
       "      <td>1974</td>\n",
       "      <td>QF</td>\n",
       "      <td>H</td>\n",
       "      <td>NYI</td>\n",
       "      <td>NHL</td>\n",
       "      <td>PIT</td>\n",
       "      <td>NHL</td>\n",
       "      <td>4</td>\n",
       "      <td>3</td>\n",
       "      <td>0</td>\n",
       "      <td>21</td>\n",
       "      <td>18</td>\n",
       "      <td>NaN</td>\n",
       "    </tr>\n",
       "    <tr>\n",
       "      <th>286</th>\n",
       "      <td>1975</td>\n",
       "      <td>Pre</td>\n",
       "      <td>D</td>\n",
       "      <td>TOR</td>\n",
       "      <td>NHL</td>\n",
       "      <td>PIT</td>\n",
       "      <td>NHL</td>\n",
       "      <td>2</td>\n",
       "      <td>1</td>\n",
       "      <td>0</td>\n",
       "      <td>8</td>\n",
       "      <td>3</td>\n",
       "      <td>NaN</td>\n",
       "    </tr>\n",
       "    <tr>\n",
       "      <th>306</th>\n",
       "      <td>1976</td>\n",
       "      <td>Pre</td>\n",
       "      <td>D</td>\n",
       "      <td>TOR</td>\n",
       "      <td>NHL</td>\n",
       "      <td>PIT</td>\n",
       "      <td>NHL</td>\n",
       "      <td>2</td>\n",
       "      <td>1</td>\n",
       "      <td>0</td>\n",
       "      <td>13</td>\n",
       "      <td>10</td>\n",
       "      <td>NaN</td>\n",
       "    </tr>\n",
       "  </tbody>\n",
       "</table>\n",
       "</div>"
      ],
      "text/plain": [
       "     year round series tmIDWinner lgIDWinner tmIDLoser lgIDLoser  W  L  T  \\\n",
       "220  1969    SF      F        STL        NHL       PIT       NHL  4  2  0   \n",
       "231  1971    QF      C        CHI        NHL       PIT       NHL  4  0  0   \n",
       "272  1974    QF      H        NYI        NHL       PIT       NHL  4  3  0   \n",
       "286  1975   Pre      D        TOR        NHL       PIT       NHL  2  1  0   \n",
       "306  1976   Pre      D        TOR        NHL       PIT       NHL  2  1  0   \n",
       "\n",
       "     GoalsWinner  GoalsLoser note  \n",
       "220           19          10  NaN  \n",
       "231           14           8  NaN  \n",
       "272           21          18  NaN  \n",
       "286            8           3  NaN  \n",
       "306           13          10  NaN  "
      ]
     },
     "execution_count": 57,
     "metadata": {},
     "output_type": "execute_result"
    }
   ],
   "source": [
    "# see Penguins' losses\n",
    "pit_losses = series.loc[series['tmIDLoser'] == 'PIT']\n",
    "pit_losses.head()"
   ]
  },
  {
   "cell_type": "code",
   "execution_count": 58,
   "id": "ecological-bermuda",
   "metadata": {},
   "outputs": [
    {
     "data": {
      "text/html": [
       "<div>\n",
       "<style scoped>\n",
       "    .dataframe tbody tr th:only-of-type {\n",
       "        vertical-align: middle;\n",
       "    }\n",
       "\n",
       "    .dataframe tbody tr th {\n",
       "        vertical-align: top;\n",
       "    }\n",
       "\n",
       "    .dataframe thead th {\n",
       "        text-align: right;\n",
       "    }\n",
       "</style>\n",
       "<table border=\"1\" class=\"dataframe\">\n",
       "  <thead>\n",
       "    <tr style=\"text-align: right;\">\n",
       "      <th></th>\n",
       "      <th>year</th>\n",
       "      <th>round</th>\n",
       "      <th>series</th>\n",
       "      <th>tmIDWinner</th>\n",
       "      <th>lgIDWinner</th>\n",
       "      <th>tmIDLoser</th>\n",
       "      <th>lgIDLoser</th>\n",
       "      <th>W</th>\n",
       "      <th>L</th>\n",
       "      <th>T</th>\n",
       "      <th>GoalsWinner</th>\n",
       "      <th>GoalsLoser</th>\n",
       "      <th>note</th>\n",
       "    </tr>\n",
       "  </thead>\n",
       "  <tbody>\n",
       "    <tr>\n",
       "      <th>496</th>\n",
       "      <td>1988</td>\n",
       "      <td>DF</td>\n",
       "      <td>J</td>\n",
       "      <td>PHI</td>\n",
       "      <td>NHL</td>\n",
       "      <td>PIT</td>\n",
       "      <td>NHL</td>\n",
       "      <td>4</td>\n",
       "      <td>3</td>\n",
       "      <td>0</td>\n",
       "      <td>31</td>\n",
       "      <td>24</td>\n",
       "      <td>NaN</td>\n",
       "    </tr>\n",
       "    <tr>\n",
       "      <th>556</th>\n",
       "      <td>1992</td>\n",
       "      <td>DF</td>\n",
       "      <td>J</td>\n",
       "      <td>NYI</td>\n",
       "      <td>NHL</td>\n",
       "      <td>PIT</td>\n",
       "      <td>NHL</td>\n",
       "      <td>4</td>\n",
       "      <td>3</td>\n",
       "      <td>0</td>\n",
       "      <td>24</td>\n",
       "      <td>27</td>\n",
       "      <td>NaN</td>\n",
       "    </tr>\n",
       "    <tr>\n",
       "      <th>563</th>\n",
       "      <td>1993</td>\n",
       "      <td>CQF</td>\n",
       "      <td>B</td>\n",
       "      <td>WAS</td>\n",
       "      <td>NHL</td>\n",
       "      <td>PIT</td>\n",
       "      <td>NHL</td>\n",
       "      <td>4</td>\n",
       "      <td>2</td>\n",
       "      <td>0</td>\n",
       "      <td>20</td>\n",
       "      <td>12</td>\n",
       "      <td>NaN</td>\n",
       "    </tr>\n",
       "    <tr>\n",
       "      <th>586</th>\n",
       "      <td>1994</td>\n",
       "      <td>CSF</td>\n",
       "      <td>J</td>\n",
       "      <td>NJD</td>\n",
       "      <td>NHL</td>\n",
       "      <td>PIT</td>\n",
       "      <td>NHL</td>\n",
       "      <td>4</td>\n",
       "      <td>1</td>\n",
       "      <td>0</td>\n",
       "      <td>17</td>\n",
       "      <td>8</td>\n",
       "      <td>NaN</td>\n",
       "    </tr>\n",
       "    <tr>\n",
       "      <th>604</th>\n",
       "      <td>1995</td>\n",
       "      <td>CF</td>\n",
       "      <td>M</td>\n",
       "      <td>FLO</td>\n",
       "      <td>NHL</td>\n",
       "      <td>PIT</td>\n",
       "      <td>NHL</td>\n",
       "      <td>4</td>\n",
       "      <td>3</td>\n",
       "      <td>0</td>\n",
       "      <td>20</td>\n",
       "      <td>15</td>\n",
       "      <td>NaN</td>\n",
       "    </tr>\n",
       "    <tr>\n",
       "      <th>609</th>\n",
       "      <td>1996</td>\n",
       "      <td>CQF</td>\n",
       "      <td>C</td>\n",
       "      <td>PHI</td>\n",
       "      <td>NHL</td>\n",
       "      <td>PIT</td>\n",
       "      <td>NHL</td>\n",
       "      <td>4</td>\n",
       "      <td>1</td>\n",
       "      <td>0</td>\n",
       "      <td>20</td>\n",
       "      <td>13</td>\n",
       "      <td>NaN</td>\n",
       "    </tr>\n",
       "    <tr>\n",
       "      <th>623</th>\n",
       "      <td>1997</td>\n",
       "      <td>CQF</td>\n",
       "      <td>B</td>\n",
       "      <td>MTL</td>\n",
       "      <td>NHL</td>\n",
       "      <td>PIT</td>\n",
       "      <td>NHL</td>\n",
       "      <td>4</td>\n",
       "      <td>2</td>\n",
       "      <td>0</td>\n",
       "      <td>18</td>\n",
       "      <td>15</td>\n",
       "      <td>NaN</td>\n",
       "    </tr>\n",
       "    <tr>\n",
       "      <th>645</th>\n",
       "      <td>1998</td>\n",
       "      <td>CSF</td>\n",
       "      <td>I</td>\n",
       "      <td>TOR</td>\n",
       "      <td>NHL</td>\n",
       "      <td>PIT</td>\n",
       "      <td>NHL</td>\n",
       "      <td>4</td>\n",
       "      <td>2</td>\n",
       "      <td>0</td>\n",
       "      <td>18</td>\n",
       "      <td>14</td>\n",
       "      <td>NaN</td>\n",
       "    </tr>\n",
       "    <tr>\n",
       "      <th>660</th>\n",
       "      <td>1999</td>\n",
       "      <td>CSF</td>\n",
       "      <td>I</td>\n",
       "      <td>PHI</td>\n",
       "      <td>NHL</td>\n",
       "      <td>PIT</td>\n",
       "      <td>NHL</td>\n",
       "      <td>4</td>\n",
       "      <td>2</td>\n",
       "      <td>0</td>\n",
       "      <td>15</td>\n",
       "      <td>14</td>\n",
       "      <td>NaN</td>\n",
       "    </tr>\n",
       "    <tr>\n",
       "      <th>679</th>\n",
       "      <td>2000</td>\n",
       "      <td>CF</td>\n",
       "      <td>M</td>\n",
       "      <td>NJD</td>\n",
       "      <td>NHL</td>\n",
       "      <td>PIT</td>\n",
       "      <td>NHL</td>\n",
       "      <td>4</td>\n",
       "      <td>1</td>\n",
       "      <td>0</td>\n",
       "      <td>17</td>\n",
       "      <td>7</td>\n",
       "      <td>NaN</td>\n",
       "    </tr>\n",
       "  </tbody>\n",
       "</table>\n",
       "</div>"
      ],
      "text/plain": [
       "     year round series tmIDWinner lgIDWinner tmIDLoser lgIDLoser  W  L  T  \\\n",
       "496  1988    DF      J        PHI        NHL       PIT       NHL  4  3  0   \n",
       "556  1992    DF      J        NYI        NHL       PIT       NHL  4  3  0   \n",
       "563  1993   CQF      B        WAS        NHL       PIT       NHL  4  2  0   \n",
       "586  1994   CSF      J        NJD        NHL       PIT       NHL  4  1  0   \n",
       "604  1995    CF      M        FLO        NHL       PIT       NHL  4  3  0   \n",
       "609  1996   CQF      C        PHI        NHL       PIT       NHL  4  1  0   \n",
       "623  1997   CQF      B        MTL        NHL       PIT       NHL  4  2  0   \n",
       "645  1998   CSF      I        TOR        NHL       PIT       NHL  4  2  0   \n",
       "660  1999   CSF      I        PHI        NHL       PIT       NHL  4  2  0   \n",
       "679  2000    CF      M        NJD        NHL       PIT       NHL  4  1  0   \n",
       "\n",
       "     GoalsWinner  GoalsLoser note  \n",
       "496           31          24  NaN  \n",
       "556           24          27  NaN  \n",
       "563           20          12  NaN  \n",
       "586           17           8  NaN  \n",
       "604           20          15  NaN  \n",
       "609           20          13  NaN  \n",
       "623           18          15  NaN  \n",
       "645           18          14  NaN  \n",
       "660           15          14  NaN  \n",
       "679           17           7  NaN  "
      ]
     },
     "execution_count": 58,
     "metadata": {},
     "output_type": "execute_result"
    }
   ],
   "source": [
    "# filter out years between 1984 - 2005\n",
    "pit_losses = pit_losses.loc[pit_losses['year'] >= 1984]\n",
    "pit_losses = pit_losses.loc[pit_losses['year'] <= 2005]\n",
    "pit_losses"
   ]
  },
  {
   "cell_type": "markdown",
   "id": "statutory-mercury",
   "metadata": {},
   "source": [
    "**Team Splits**"
   ]
  },
  {
   "cell_type": "code",
   "execution_count": 60,
   "id": "complicated-sailing",
   "metadata": {},
   "outputs": [],
   "source": [
    "# read team splits csv file\n",
    "team_splits = pd.read_csv('data/TeamSplits.csv')"
   ]
  },
  {
   "cell_type": "code",
   "execution_count": 61,
   "id": "amino-exhibition",
   "metadata": {},
   "outputs": [],
   "source": [
    "pd.options.display.float_format = '{:.1f}'.format"
   ]
  },
  {
   "cell_type": "code",
   "execution_count": 62,
   "id": "alternative-onion",
   "metadata": {},
   "outputs": [],
   "source": [
    "# filter out PIT team stats\n",
    "team_splits = team_splits.loc[team_splits['tmID'] == 'PIT']"
   ]
  },
  {
   "cell_type": "code",
   "execution_count": 63,
   "id": "figured-second",
   "metadata": {},
   "outputs": [
    {
     "data": {
      "text/html": [
       "<div>\n",
       "<style scoped>\n",
       "    .dataframe tbody tr th:only-of-type {\n",
       "        vertical-align: middle;\n",
       "    }\n",
       "\n",
       "    .dataframe tbody tr th {\n",
       "        vertical-align: top;\n",
       "    }\n",
       "\n",
       "    .dataframe thead th {\n",
       "        text-align: right;\n",
       "    }\n",
       "</style>\n",
       "<table border=\"1\" class=\"dataframe\">\n",
       "  <thead>\n",
       "    <tr style=\"text-align: right;\">\n",
       "      <th></th>\n",
       "      <th>year</th>\n",
       "      <th>lgID</th>\n",
       "      <th>tmID</th>\n",
       "      <th>hW</th>\n",
       "      <th>hL</th>\n",
       "      <th>hT</th>\n",
       "      <th>hOTL</th>\n",
       "      <th>rW</th>\n",
       "      <th>rL</th>\n",
       "      <th>rT</th>\n",
       "      <th>...</th>\n",
       "      <th>FebT</th>\n",
       "      <th>FebOL</th>\n",
       "      <th>MarW</th>\n",
       "      <th>MarL</th>\n",
       "      <th>MarT</th>\n",
       "      <th>MarOL</th>\n",
       "      <th>AprW</th>\n",
       "      <th>AprL</th>\n",
       "      <th>AprT</th>\n",
       "      <th>AprOL</th>\n",
       "    </tr>\n",
       "  </thead>\n",
       "  <tbody>\n",
       "    <tr>\n",
       "      <th>825</th>\n",
       "      <td>1984</td>\n",
       "      <td>NHL</td>\n",
       "      <td>PIT</td>\n",
       "      <td>17</td>\n",
       "      <td>20</td>\n",
       "      <td>3.0</td>\n",
       "      <td>NaN</td>\n",
       "      <td>7</td>\n",
       "      <td>31</td>\n",
       "      <td>2.0</td>\n",
       "      <td>...</td>\n",
       "      <td>0.0</td>\n",
       "      <td>NaN</td>\n",
       "      <td>4.0</td>\n",
       "      <td>12.0</td>\n",
       "      <td>0.0</td>\n",
       "      <td>NaN</td>\n",
       "      <td>0.0</td>\n",
       "      <td>4.0</td>\n",
       "      <td>0.0</td>\n",
       "      <td>NaN</td>\n",
       "    </tr>\n",
       "    <tr>\n",
       "      <th>846</th>\n",
       "      <td>1985</td>\n",
       "      <td>NHL</td>\n",
       "      <td>PIT</td>\n",
       "      <td>20</td>\n",
       "      <td>15</td>\n",
       "      <td>5.0</td>\n",
       "      <td>NaN</td>\n",
       "      <td>14</td>\n",
       "      <td>23</td>\n",
       "      <td>3.0</td>\n",
       "      <td>...</td>\n",
       "      <td>1.0</td>\n",
       "      <td>NaN</td>\n",
       "      <td>3.0</td>\n",
       "      <td>9.0</td>\n",
       "      <td>1.0</td>\n",
       "      <td>NaN</td>\n",
       "      <td>1.0</td>\n",
       "      <td>3.0</td>\n",
       "      <td>0.0</td>\n",
       "      <td>NaN</td>\n",
       "    </tr>\n",
       "    <tr>\n",
       "      <th>867</th>\n",
       "      <td>1986</td>\n",
       "      <td>NHL</td>\n",
       "      <td>PIT</td>\n",
       "      <td>19</td>\n",
       "      <td>15</td>\n",
       "      <td>6.0</td>\n",
       "      <td>NaN</td>\n",
       "      <td>11</td>\n",
       "      <td>23</td>\n",
       "      <td>6.0</td>\n",
       "      <td>...</td>\n",
       "      <td>2.0</td>\n",
       "      <td>NaN</td>\n",
       "      <td>5.0</td>\n",
       "      <td>8.0</td>\n",
       "      <td>2.0</td>\n",
       "      <td>NaN</td>\n",
       "      <td>2.0</td>\n",
       "      <td>0.0</td>\n",
       "      <td>0.0</td>\n",
       "      <td>NaN</td>\n",
       "    </tr>\n",
       "    <tr>\n",
       "      <th>888</th>\n",
       "      <td>1987</td>\n",
       "      <td>NHL</td>\n",
       "      <td>PIT</td>\n",
       "      <td>22</td>\n",
       "      <td>12</td>\n",
       "      <td>6.0</td>\n",
       "      <td>NaN</td>\n",
       "      <td>14</td>\n",
       "      <td>23</td>\n",
       "      <td>3.0</td>\n",
       "      <td>...</td>\n",
       "      <td>0.0</td>\n",
       "      <td>NaN</td>\n",
       "      <td>9.0</td>\n",
       "      <td>5.0</td>\n",
       "      <td>0.0</td>\n",
       "      <td>NaN</td>\n",
       "      <td>2.0</td>\n",
       "      <td>0.0</td>\n",
       "      <td>0.0</td>\n",
       "      <td>NaN</td>\n",
       "    </tr>\n",
       "    <tr>\n",
       "      <th>909</th>\n",
       "      <td>1988</td>\n",
       "      <td>NHL</td>\n",
       "      <td>PIT</td>\n",
       "      <td>24</td>\n",
       "      <td>13</td>\n",
       "      <td>3.0</td>\n",
       "      <td>NaN</td>\n",
       "      <td>16</td>\n",
       "      <td>20</td>\n",
       "      <td>4.0</td>\n",
       "      <td>...</td>\n",
       "      <td>3.0</td>\n",
       "      <td>NaN</td>\n",
       "      <td>6.0</td>\n",
       "      <td>9.0</td>\n",
       "      <td>0.0</td>\n",
       "      <td>NaN</td>\n",
       "      <td>2.0</td>\n",
       "      <td>0.0</td>\n",
       "      <td>0.0</td>\n",
       "      <td>NaN</td>\n",
       "    </tr>\n",
       "  </tbody>\n",
       "</table>\n",
       "<p>5 rows × 43 columns</p>\n",
       "</div>"
      ],
      "text/plain": [
       "     year lgID tmID  hW  hL  hT  hOTL  rW  rL  rT  ...  FebT  FebOL  MarW  \\\n",
       "825  1984  NHL  PIT  17  20 3.0   NaN   7  31 2.0  ...   0.0    NaN   4.0   \n",
       "846  1985  NHL  PIT  20  15 5.0   NaN  14  23 3.0  ...   1.0    NaN   3.0   \n",
       "867  1986  NHL  PIT  19  15 6.0   NaN  11  23 6.0  ...   2.0    NaN   5.0   \n",
       "888  1987  NHL  PIT  22  12 6.0   NaN  14  23 3.0  ...   0.0    NaN   9.0   \n",
       "909  1988  NHL  PIT  24  13 3.0   NaN  16  20 4.0  ...   3.0    NaN   6.0   \n",
       "\n",
       "     MarL  MarT  MarOL  AprW  AprL  AprT  AprOL  \n",
       "825  12.0   0.0    NaN   0.0   4.0   0.0    NaN  \n",
       "846   9.0   1.0    NaN   1.0   3.0   0.0    NaN  \n",
       "867   8.0   2.0    NaN   2.0   0.0   0.0    NaN  \n",
       "888   5.0   0.0    NaN   2.0   0.0   0.0    NaN  \n",
       "909   9.0   0.0    NaN   2.0   0.0   0.0    NaN  \n",
       "\n",
       "[5 rows x 43 columns]"
      ]
     },
     "execution_count": 63,
     "metadata": {},
     "output_type": "execute_result"
    }
   ],
   "source": [
    "# filter out years between 1984 and 2005\n",
    "team_splits = team_splits.loc[team_splits['year'] >= 1984]\n",
    "team_splits = team_splits.loc[team_splits['year'] <= 2005]\n",
    "team_splits.head()"
   ]
  },
  {
   "cell_type": "code",
   "execution_count": 64,
   "id": "informed-asbestos",
   "metadata": {},
   "outputs": [],
   "source": [
    "# engineer a column of home wins / losses\n",
    "pd.options.mode.chained_assignment = None  # default='warn'\n",
    "team_splits['hW/hL'] = team_splits.apply(lambda x: x['hW'] if x['hW'] < 1 else x['hW']/x['hL'], axis=1)"
   ]
  },
  {
   "cell_type": "code",
   "execution_count": 65,
   "id": "robust-insulin",
   "metadata": {},
   "outputs": [
    {
     "data": {
      "image/png": "[encoded data removed]",
      "text/plain": [
       "<Figure size 720x360 with 1 Axes>"
      ]
     },
     "metadata": {},
     "output_type": "display_data"
    }
   ],
   "source": [
    "# construct home wins / losses chart\n",
    "style.use('seaborn-darkgrid')\n",
    "style.use('seaborn-muted')\n",
    "sns.set_palette(sns.dark_palette('#69d', 10))\n",
    "plt.figure(figsize=(10,5))\n",
    "sns.barplot(data=team_splits, x=\"year\", y=\"hW/hL\")\n",
    "plt.title('Pittsburgh Penguins Home Wins vs Losses, 1984-2005', fontsize=14)\n",
    "plt.xlabel('years', fontsize=12)\n",
    "plt.ylabel('wins/losses', fontsize=12)\n",
    "plt.show\n",
    "plt.savefig('charts/pit_home_winsloss');"
   ]
  },
  {
   "cell_type": "code",
   "execution_count": 66,
   "id": "consecutive-warning",
   "metadata": {},
   "outputs": [],
   "source": [
    "# engineer a column of road wins / road losses\n",
    "pd.options.mode.chained_assignment = None  # default='warn'\n",
    "team_splits['rW/rL'] = team_splits.apply(lambda x: x['rW'] if x['rW'] < 1 else x['rW']/x['rL'], axis=1)"
   ]
  },
  {
   "cell_type": "code",
   "execution_count": 67,
   "id": "coral-smart",
   "metadata": {},
   "outputs": [
    {
     "data": {
      "image/png": "[encoded data removed]",
      "text/plain": [
       "<Figure size 720x360 with 1 Axes>"
      ]
     },
     "metadata": {},
     "output_type": "display_data"
    }
   ],
   "source": [
    "# construct home wins / losses chart\n",
    "style.use('seaborn-darkgrid')\n",
    "style.use('seaborn-muted')\n",
    "sns.set_palette(sns.dark_palette('#69d', 10))\n",
    "plt.figure(figsize=(10,5))\n",
    "sns.barplot(data=team_splits, x=\"year\", y=\"rW/rL\")\n",
    "plt.title('Pittsburgh Penguins Road Wins vs Losses, 1984-2005')\n",
    "plt.xlabel('years')\n",
    "plt.ylabel('wins/losses')\n",
    "plt.show\n",
    "plt.savefig('charts/pit_road_winsloss');"
   ]
  },
  {
   "cell_type": "markdown",
   "id": "likely-voltage",
   "metadata": {},
   "source": [
    "**Monthly Data**"
   ]
  },
  {
   "cell_type": "code",
   "execution_count": 68,
   "id": "desirable-observer",
   "metadata": {},
   "outputs": [],
   "source": [
    "# engineer a column of wins / losses by month\n",
    "pd.options.mode.chained_assignment = None  # default='warn'\n",
    "team_splits['SepW/SepL'] = team_splits.apply(lambda x: x['SepW'] if x['SepW'] < 1 or x['SepL'] < 1 else x['SepW']/x['SepL'], axis=1)\n",
    "team_splits['OctW/OctL'] = team_splits.apply(lambda x: x['OctW'] if x['OctW'] < 1 or x['OctL'] < 1 else x['OctW']/x['OctL'], axis=1)\n",
    "team_splits['NovW/NovL'] = team_splits.apply(lambda x: x['NovW'] if x['NovW'] < 1 or x['NovL'] < 1 else x['NovW']/x['NovL'], axis=1)\n",
    "team_splits['DecW/DecL'] = team_splits.apply(lambda x: x['DecW'] if x['DecW'] < 1 or x['DecL'] < 1 else x['DecW']/x['DecL'], axis=1)\n",
    "team_splits['JanW/JanL'] = team_splits.apply(lambda x: x['JanW'] if x['JanW'] < 1 or x['JanL'] < 1 else x['JanW']/x['JanL'], axis=1)\n",
    "team_splits['FebW/FebL'] = team_splits.apply(lambda x: x['FebW'] if x['FebW'] < 1 or x['FebL'] < 1 else x['FebW']/x['FebL'], axis=1)\n",
    "team_splits['MarW/MarL'] = team_splits.apply(lambda x: x['MarW'] if x['MarW'] < 1 or x['MarL'] < 1 else x['MarW']/x['MarL'], axis=1)\n",
    "team_splits['AprW/AprL'] = team_splits.apply(lambda x: x['AprW'] if x['AprW'] < 1 or x['AprL'] < 1 else x['AprW']/x['AprL'], axis=1)\n"
   ]
  },
  {
   "cell_type": "code",
   "execution_count": 69,
   "id": "acute-context",
   "metadata": {},
   "outputs": [],
   "source": [
    "monthly_data = pd.DataFrame(data=team_splits, columns = ['year','OctW/OctL', 'NovW/NovL', 'DecW/DecL', 'JanW/JanL', 'FebW/FebL',\n",
    "                                                        'MarW/MarL', 'AprW/AprL'])"
   ]
  },
  {
   "cell_type": "code",
   "execution_count": 70,
   "id": "expressed-syndicate",
   "metadata": {},
   "outputs": [],
   "source": [
    "# simple imputer missing values with the mean \n",
    "imputer = SimpleImputer(missing_values=np.nan, strategy='mean')\n",
    "monthly_data['OctW/OctL'] = imputer.fit_transform(monthly_data['OctW/OctL'].values.reshape(-1,1))\n",
    "monthly_data['NovW/NovL'] = imputer.fit_transform(monthly_data['NovW/NovL'].values.reshape(-1,1))\n",
    "monthly_data['DecW/DecL'] = imputer.fit_transform(monthly_data['DecW/DecL'].values.reshape(-1,1))\n",
    "monthly_data['JanW/JanL'] = imputer.fit_transform(monthly_data['JanW/JanL'].values.reshape(-1,1))\n",
    "monthly_data['FebW/FebL'] = imputer.fit_transform(monthly_data['FebW/FebL'].values.reshape(-1,1))\n",
    "monthly_data['MarW/MarL'] = imputer.fit_transform(monthly_data['MarW/MarL'].values.reshape(-1,1))\n",
    "monthly_data['AprW/AprL'] = imputer.fit_transform(monthly_data['AprW/AprL'].values.reshape(-1,1))"
   ]
  },
  {
   "cell_type": "code",
   "execution_count": 71,
   "id": "catholic-washer",
   "metadata": {},
   "outputs": [
    {
     "data": {
      "text/plain": [
       "1.510595238095238"
      ]
     },
     "execution_count": 71,
     "metadata": {},
     "output_type": "execute_result"
    }
   ],
   "source": [
    "# average oct wins/ losses\n",
    "statistics.mean(monthly_data['OctW/OctL'])"
   ]
  },
  {
   "cell_type": "code",
   "execution_count": 72,
   "id": "injured-ribbon",
   "metadata": {},
   "outputs": [
    {
     "data": {
      "text/plain": [
       "1.3647619047619048"
      ]
     },
     "execution_count": 72,
     "metadata": {},
     "output_type": "execute_result"
    }
   ],
   "source": [
    "# average nov wins/ losses\n",
    "statistics.mean(monthly_data['NovW/NovL'])"
   ]
  },
  {
   "cell_type": "code",
   "execution_count": 73,
   "id": "aging-faith",
   "metadata": {},
   "outputs": [
    {
     "data": {
      "text/plain": [
       "1.768174603174603"
      ]
     },
     "execution_count": 73,
     "metadata": {},
     "output_type": "execute_result"
    }
   ],
   "source": [
    "# average dec wins/ losses\n",
    "statistics.mean(monthly_data['DecW/DecL'])"
   ]
  },
  {
   "cell_type": "code",
   "execution_count": 74,
   "id": "adapted-ancient",
   "metadata": {},
   "outputs": [
    {
     "data": {
      "text/plain": [
       "1.3614735793307222"
      ]
     },
     "execution_count": 74,
     "metadata": {},
     "output_type": "execute_result"
    }
   ],
   "source": [
    "# average Jan wins/ losses\n",
    "statistics.mean(monthly_data['JanW/JanL'])"
   ]
  },
  {
   "cell_type": "code",
   "execution_count": 75,
   "id": "nasty-championship",
   "metadata": {},
   "outputs": [
    {
     "data": {
      "text/plain": [
       "1.0033257747543463"
      ]
     },
     "execution_count": 75,
     "metadata": {},
     "output_type": "execute_result"
    }
   ],
   "source": [
    "# average Feb wins/ losses\n",
    "statistics.mean(monthly_data['FebW/FebL'])"
   ]
  },
  {
   "cell_type": "code",
   "execution_count": 76,
   "id": "listed-thong",
   "metadata": {},
   "outputs": [
    {
     "data": {
      "text/plain": [
       "1.4166448630734345"
      ]
     },
     "execution_count": 76,
     "metadata": {},
     "output_type": "execute_result"
    }
   ],
   "source": [
    "# average March wins/ losses\n",
    "statistics.mean(monthly_data['MarW/MarL'])"
   ]
  },
  {
   "cell_type": "code",
   "execution_count": 77,
   "id": "textile-paint",
   "metadata": {},
   "outputs": [
    {
     "data": {
      "text/plain": [
       "1.3973684210526316"
      ]
     },
     "execution_count": 77,
     "metadata": {},
     "output_type": "execute_result"
    }
   ],
   "source": [
    "# average Apr wins/ losses\n",
    "statistics.mean(monthly_data['AprW/AprL'])"
   ]
  },
  {
   "cell_type": "code",
   "execution_count": 78,
   "id": "otherwise-moderator",
   "metadata": {},
   "outputs": [
    {
     "data": {
      "image/png": "[encoded data removed]",
      "text/plain": [
       "<Figure size 809.5x360 with 1 Axes>"
      ]
     },
     "metadata": {},
     "output_type": "display_data"
    }
   ],
   "source": [
    "monthly_data = monthly_data.melt('year', var_name='cols', value_name='vals')\n",
    "\n",
    "sns.catplot(x='year', y=\"vals\", hue='cols', data=monthly_data, kind='point', height=5, aspect=2,\n",
    "           palette=sns.color_palette('mako'))\n",
    "plt.title('Pittsburgh Penguins Wins / Losses by Month, 1984-2005')\n",
    "plt.xlabel('years')\n",
    "plt.ylabel('wins/losses')\n",
    "plt.show\n",
    "plt.savefig('charts/pit_monthly_winslosses');"
   ]
  },
  {
   "cell_type": "code",
   "execution_count": 79,
   "id": "facial-tunnel",
   "metadata": {},
   "outputs": [
    {
     "data": {
      "image/png": "[encoded data removed]",
      "text/plain": [
       "<Figure size 720x360 with 1 Axes>"
      ]
     },
     "metadata": {},
     "output_type": "display_data"
    }
   ],
   "source": [
    "# construct home wins / losses chart for oct\n",
    "style.use('seaborn-darkgrid')\n",
    "style.use('seaborn-muted')\n",
    "sns.set_palette(sns.dark_palette('#69d', 10))\n",
    "plt.figure(figsize=(10,5))\n",
    "sns.barplot(data=team_splits, x=\"year\", y=\"OctW/OctL\")\n",
    "plt.title('Pittsburgh Penguins Wins / Losses in October, 1984-2005', fontsize=14)\n",
    "plt.xlabel('years', fontsize=12)\n",
    "plt.ylabel('wins/losses', fontsize=12)\n",
    "plt.show\n",
    "plt.savefig('charts/pit_oct_winslosses');"
   ]
  },
  {
   "cell_type": "code",
   "execution_count": 80,
   "id": "educated-population",
   "metadata": {},
   "outputs": [
    {
     "data": {
      "image/png": "[encoded data removed]",
      "text/plain": [
       "<Figure size 576x360 with 1 Axes>"
      ]
     },
     "metadata": {},
     "output_type": "display_data"
    }
   ],
   "source": [
    "# construct home wins / losses chart for nov\n",
    "style.use('seaborn-darkgrid')\n",
    "style.use('seaborn-muted')\n",
    "sns.set_palette(sns.dark_palette('#69d', 10))\n",
    "plt.figure(figsize=(8,5))\n",
    "sns.barplot(data=team_splits, x=\"year\", y=\"NovW/NovL\")\n",
    "plt.title('Pittsburgh Penguins Wins / Losses in November, 1984-2005')\n",
    "plt.xlabel('years')\n",
    "plt.ylabel('wins/losses')\n",
    "plt.show\n",
    "plt.savefig('charts/pit_nov_winslosses');"
   ]
  },
  {
   "cell_type": "code",
   "execution_count": 81,
   "id": "liable-luxury",
   "metadata": {},
   "outputs": [
    {
     "data": {
      "image/png": "[encoded data removed]",
      "text/plain": [
       "<Figure size 576x360 with 1 Axes>"
      ]
     },
     "metadata": {},
     "output_type": "display_data"
    }
   ],
   "source": [
    "# construct home wins / losses chart for dec\n",
    "style.use('seaborn-darkgrid')\n",
    "style.use('seaborn-muted')\n",
    "sns.set_palette(sns.dark_palette('#69d', 10))\n",
    "plt.figure(figsize=(8,5))\n",
    "sns.barplot(data=team_splits, x=\"year\", y=\"DecW/DecL\")\n",
    "plt.title('Pittsburgh Penguins Wins / Losses in December, 1984-2005')\n",
    "plt.xlabel('years')\n",
    "plt.ylabel('wins/losses')\n",
    "plt.show\n",
    "plt.savefig('charts/pit_dec_winslosses');"
   ]
  },
  {
   "cell_type": "code",
   "execution_count": 82,
   "id": "extended-hamilton",
   "metadata": {},
   "outputs": [
    {
     "data": {
      "image/png": "[encoded data removed]",
      "text/plain": [
       "<Figure size 576x360 with 1 Axes>"
      ]
     },
     "metadata": {},
     "output_type": "display_data"
    }
   ],
   "source": [
    "# construct home wins / losses chart for jan\n",
    "style.use('seaborn-darkgrid')\n",
    "style.use('seaborn-muted')\n",
    "sns.set_palette(sns.dark_palette('#69d', 10))\n",
    "plt.figure(figsize=(8,5))\n",
    "sns.barplot(data=team_splits, x=\"year\", y=\"JanW/JanL\")\n",
    "plt.title('Pittsburgh Penguins Wins / Losses in January, 1984-2005')\n",
    "plt.xlabel('years')\n",
    "plt.ylabel('wins/losses')\n",
    "plt.show\n",
    "plt.savefig('charts/pit_jan_winslosses');"
   ]
  },
  {
   "cell_type": "code",
   "execution_count": 83,
   "id": "stuck-approval",
   "metadata": {},
   "outputs": [
    {
     "data": {
      "image/png": "[encoded data removed]",
      "text/plain": [
       "<Figure size 576x360 with 1 Axes>"
      ]
     },
     "metadata": {},
     "output_type": "display_data"
    }
   ],
   "source": [
    "# construct home wins / losses chart for feb\n",
    "style.use('seaborn-darkgrid')\n",
    "style.use('seaborn-muted')\n",
    "sns.set_palette(sns.dark_palette('#69d', 10))\n",
    "plt.figure(figsize=(8,5))\n",
    "sns.barplot(data=team_splits, x=\"year\", y=\"FebW/FebL\")\n",
    "plt.title('Pittsburgh Penguins Wins / Losses in February, 1984-2005')\n",
    "plt.xlabel('years')\n",
    "plt.ylabel('wins/losses')\n",
    "plt.show\n",
    "plt.savefig('charts/pit_feb_winslosses');"
   ]
  },
  {
   "cell_type": "code",
   "execution_count": 84,
   "id": "measured-portland",
   "metadata": {},
   "outputs": [
    {
     "data": {
      "image/png": "[encoded data removed]",
      "text/plain": [
       "<Figure size 576x360 with 1 Axes>"
      ]
     },
     "metadata": {},
     "output_type": "display_data"
    }
   ],
   "source": [
    "# construct home wins / losses chart for march\n",
    "style.use('seaborn-darkgrid')\n",
    "style.use('seaborn-muted')\n",
    "sns.set_palette(sns.dark_palette('#69d', 10))\n",
    "plt.figure(figsize=(8,5))\n",
    "sns.barplot(data=team_splits, x=\"year\", y=\"MarW/MarL\")\n",
    "plt.title('Pittsburgh Penguins Wins / Losses in March, 1984-2005')\n",
    "plt.xlabel('years')\n",
    "plt.ylabel('wins/losses')\n",
    "plt.show\n",
    "plt.savefig('charts/pit_mar_winslosses');"
   ]
  },
  {
   "cell_type": "code",
   "execution_count": 85,
   "id": "attended-vegetable",
   "metadata": {},
   "outputs": [
    {
     "data": {
      "image/png": "[encoded data removed]",
      "text/plain": [
       "<Figure size 576x360 with 1 Axes>"
      ]
     },
     "metadata": {},
     "output_type": "display_data"
    }
   ],
   "source": [
    "# construct home wins / losses chart for April\n",
    "style.use('seaborn-darkgrid')\n",
    "style.use('seaborn-muted')\n",
    "sns.set_palette(sns.dark_palette('#69d', 10))\n",
    "plt.figure(figsize=(8,5))\n",
    "sns.barplot(data=team_splits, x=\"year\", y=\"AprW/AprL\")\n",
    "plt.title('Pittsburgh Penguins Wins / Losses in April, 1984-2005')\n",
    "plt.xlabel('years')\n",
    "plt.ylabel('wins/losses')\n",
    "plt.show\n",
    "plt.savefig('charts/pit_apr_winslosses');"
   ]
  },
  {
   "cell_type": "markdown",
   "id": "afraid-shame",
   "metadata": {},
   "source": [
    "**Team vs Team Stats**"
   ]
  },
  {
   "cell_type": "code",
   "execution_count": 86,
   "id": "vocational-morocco",
   "metadata": {},
   "outputs": [],
   "source": [
    "# read team vs team csv file\n",
    "team_vs_team = pd.read_csv('data/TeamVsTeam.csv')"
   ]
  },
  {
   "cell_type": "code",
   "execution_count": 87,
   "id": "compact-thermal",
   "metadata": {},
   "outputs": [
    {
     "data": {
      "text/html": [
       "<div>\n",
       "<style scoped>\n",
       "    .dataframe tbody tr th:only-of-type {\n",
       "        vertical-align: middle;\n",
       "    }\n",
       "\n",
       "    .dataframe tbody tr th {\n",
       "        vertical-align: top;\n",
       "    }\n",
       "\n",
       "    .dataframe thead th {\n",
       "        text-align: right;\n",
       "    }\n",
       "</style>\n",
       "<table border=\"1\" class=\"dataframe\">\n",
       "  <thead>\n",
       "    <tr style=\"text-align: right;\">\n",
       "      <th></th>\n",
       "      <th>year</th>\n",
       "      <th>lgID</th>\n",
       "      <th>tmID</th>\n",
       "      <th>oppID</th>\n",
       "      <th>W</th>\n",
       "      <th>L</th>\n",
       "      <th>T</th>\n",
       "      <th>OTL</th>\n",
       "    </tr>\n",
       "  </thead>\n",
       "  <tbody>\n",
       "    <tr>\n",
       "      <th>2505</th>\n",
       "      <td>1967</td>\n",
       "      <td>NHL</td>\n",
       "      <td>PIT</td>\n",
       "      <td>BOS</td>\n",
       "      <td>2</td>\n",
       "      <td>2</td>\n",
       "      <td>0.0</td>\n",
       "      <td>NaN</td>\n",
       "    </tr>\n",
       "    <tr>\n",
       "      <th>2506</th>\n",
       "      <td>1967</td>\n",
       "      <td>NHL</td>\n",
       "      <td>PIT</td>\n",
       "      <td>CHI</td>\n",
       "      <td>1</td>\n",
       "      <td>2</td>\n",
       "      <td>1.0</td>\n",
       "      <td>NaN</td>\n",
       "    </tr>\n",
       "    <tr>\n",
       "      <th>2507</th>\n",
       "      <td>1967</td>\n",
       "      <td>NHL</td>\n",
       "      <td>PIT</td>\n",
       "      <td>DET</td>\n",
       "      <td>1</td>\n",
       "      <td>3</td>\n",
       "      <td>0.0</td>\n",
       "      <td>NaN</td>\n",
       "    </tr>\n",
       "    <tr>\n",
       "      <th>2508</th>\n",
       "      <td>1967</td>\n",
       "      <td>NHL</td>\n",
       "      <td>PIT</td>\n",
       "      <td>LAK</td>\n",
       "      <td>4</td>\n",
       "      <td>6</td>\n",
       "      <td>0.0</td>\n",
       "      <td>NaN</td>\n",
       "    </tr>\n",
       "    <tr>\n",
       "      <th>2509</th>\n",
       "      <td>1967</td>\n",
       "      <td>NHL</td>\n",
       "      <td>PIT</td>\n",
       "      <td>MNS</td>\n",
       "      <td>4</td>\n",
       "      <td>3</td>\n",
       "      <td>3.0</td>\n",
       "      <td>NaN</td>\n",
       "    </tr>\n",
       "  </tbody>\n",
       "</table>\n",
       "</div>"
      ],
      "text/plain": [
       "      year lgID tmID oppID  W  L   T  OTL\n",
       "2505  1967  NHL  PIT   BOS  2  2 0.0  NaN\n",
       "2506  1967  NHL  PIT   CHI  1  2 1.0  NaN\n",
       "2507  1967  NHL  PIT   DET  1  3 0.0  NaN\n",
       "2508  1967  NHL  PIT   LAK  4  6 0.0  NaN\n",
       "2509  1967  NHL  PIT   MNS  4  3 3.0  NaN"
      ]
     },
     "execution_count": 87,
     "metadata": {},
     "output_type": "execute_result"
    }
   ],
   "source": [
    "# explore Penguins' opponents\n",
    "pit_team_stats = team_vs_team.loc[team_vs_team['tmID'] == 'PIT']\n",
    "pit_team_stats.head()"
   ]
  },
  {
   "cell_type": "code",
   "execution_count": 88,
   "id": "postal-sussex",
   "metadata": {},
   "outputs": [
    {
     "data": {
      "text/html": [
       "<div>\n",
       "<style scoped>\n",
       "    .dataframe tbody tr th:only-of-type {\n",
       "        vertical-align: middle;\n",
       "    }\n",
       "\n",
       "    .dataframe tbody tr th {\n",
       "        vertical-align: top;\n",
       "    }\n",
       "\n",
       "    .dataframe thead th {\n",
       "        text-align: right;\n",
       "    }\n",
       "</style>\n",
       "<table border=\"1\" class=\"dataframe\">\n",
       "  <thead>\n",
       "    <tr style=\"text-align: right;\">\n",
       "      <th></th>\n",
       "      <th>year</th>\n",
       "      <th>lgID</th>\n",
       "      <th>tmID</th>\n",
       "      <th>oppID</th>\n",
       "      <th>W</th>\n",
       "      <th>L</th>\n",
       "      <th>T</th>\n",
       "      <th>OTL</th>\n",
       "    </tr>\n",
       "  </thead>\n",
       "  <tbody>\n",
       "    <tr>\n",
       "      <th>8438</th>\n",
       "      <td>1984</td>\n",
       "      <td>NHL</td>\n",
       "      <td>PIT</td>\n",
       "      <td>BOS</td>\n",
       "      <td>1</td>\n",
       "      <td>2</td>\n",
       "      <td>0.0</td>\n",
       "      <td>NaN</td>\n",
       "    </tr>\n",
       "    <tr>\n",
       "      <th>8439</th>\n",
       "      <td>1984</td>\n",
       "      <td>NHL</td>\n",
       "      <td>PIT</td>\n",
       "      <td>BUF</td>\n",
       "      <td>0</td>\n",
       "      <td>2</td>\n",
       "      <td>1.0</td>\n",
       "      <td>NaN</td>\n",
       "    </tr>\n",
       "    <tr>\n",
       "      <th>8440</th>\n",
       "      <td>1984</td>\n",
       "      <td>NHL</td>\n",
       "      <td>PIT</td>\n",
       "      <td>CAL</td>\n",
       "      <td>2</td>\n",
       "      <td>0</td>\n",
       "      <td>1.0</td>\n",
       "      <td>NaN</td>\n",
       "    </tr>\n",
       "    <tr>\n",
       "      <th>8441</th>\n",
       "      <td>1984</td>\n",
       "      <td>NHL</td>\n",
       "      <td>PIT</td>\n",
       "      <td>CHI</td>\n",
       "      <td>1</td>\n",
       "      <td>2</td>\n",
       "      <td>0.0</td>\n",
       "      <td>NaN</td>\n",
       "    </tr>\n",
       "    <tr>\n",
       "      <th>8442</th>\n",
       "      <td>1984</td>\n",
       "      <td>NHL</td>\n",
       "      <td>PIT</td>\n",
       "      <td>DET</td>\n",
       "      <td>1</td>\n",
       "      <td>1</td>\n",
       "      <td>1.0</td>\n",
       "      <td>NaN</td>\n",
       "    </tr>\n",
       "  </tbody>\n",
       "</table>\n",
       "</div>"
      ],
      "text/plain": [
       "      year lgID tmID oppID  W  L   T  OTL\n",
       "8438  1984  NHL  PIT   BOS  1  2 0.0  NaN\n",
       "8439  1984  NHL  PIT   BUF  0  2 1.0  NaN\n",
       "8440  1984  NHL  PIT   CAL  2  0 1.0  NaN\n",
       "8441  1984  NHL  PIT   CHI  1  2 0.0  NaN\n",
       "8442  1984  NHL  PIT   DET  1  1 1.0  NaN"
      ]
     },
     "execution_count": 88,
     "metadata": {},
     "output_type": "execute_result"
    }
   ],
   "source": [
    "# filter out years between 1984 and 2005\n",
    "pit_team_stats = pit_team_stats.loc[pit_team_stats['year'] >= 1984]\n",
    "pit_team_stats = pit_team_stats.loc[pit_team_stats['year'] <= 2005]\n",
    "pit_team_stats.head()"
   ]
  },
  {
   "cell_type": "code",
   "execution_count": 102,
   "id": "surrounded-piano",
   "metadata": {},
   "outputs": [
    {
     "data": {
      "text/plain": [
       "WAS    21\n",
       "BOS    21\n",
       "NJD    21\n",
       "MTL    21\n",
       "NYI    21\n",
       "PHI    21\n",
       "NYR    21\n",
       "BUF    21\n",
       "EDM    20\n",
       "CHI    20\n",
       "VAN    20\n",
       "CAL    20\n",
       "STL    20\n",
       "TOR    20\n",
       "DET    20\n",
       "LAK    19\n",
       "HAR    13\n",
       "OTT    13\n",
       "TBL    13\n",
       "SJS    12\n",
       "FLO    12\n",
       "WIN    11\n",
       "QUE    11\n",
       "DAL    10\n",
       "COL    10\n",
       "ANA    10\n",
       "MNS     9\n",
       "CAR     8\n",
       "PHO     8\n",
       "NAS     7\n",
       "ATL     6\n",
       "MIN     5\n",
       "CBS     5\n",
       "Name: oppID, dtype: int64"
      ]
     },
     "execution_count": 102,
     "metadata": {},
     "output_type": "execute_result"
    }
   ],
   "source": [
    "# count most frequent opponents\n",
    "pit_team_stats['oppID'].value_counts()"
   ]
  },
  {
   "cell_type": "code",
   "execution_count": 129,
   "id": "automated-restriction",
   "metadata": {},
   "outputs": [],
   "source": [
    "# functions to print out average win / loss vs a team\n",
    "def teamvsteam_stats(team):\n",
    "    team_name = pit_team_stats[pit_team_stats['oppID'] == team]\n",
    "    print(statistics.mean(team_name['W']))\n",
    "    print(statistics.mean(team_name['L']))"
   ]
  },
  {
   "cell_type": "code",
   "execution_count": 132,
   "id": "developed-professional",
   "metadata": {},
   "outputs": [
    {
     "name": "stdout",
     "output_type": "stream",
     "text": [
      "1.619047619047619\n",
      "1.9047619047619047\n"
     ]
    }
   ],
   "source": [
    "# boston\n",
    "teamvsteam_stats('BOS')"
   ]
  },
  {
   "cell_type": "code",
   "execution_count": 134,
   "id": "interstate-aggregate",
   "metadata": {},
   "outputs": [
    {
     "name": "stdout",
     "output_type": "stream",
     "text": [
      "2.2857142857142856\n",
      "2.9523809523809526\n"
     ]
    }
   ],
   "source": [
    "# new jersey\n",
    "teamvsteam_stats('NJD')"
   ]
  },
  {
   "cell_type": "code",
   "execution_count": 135,
   "id": "painted-center",
   "metadata": {},
   "outputs": [
    {
     "name": "stdout",
     "output_type": "stream",
     "text": [
      "1.2857142857142858\n",
      "1.8571428571428572\n"
     ]
    }
   ],
   "source": [
    "# montreal\n",
    "teamvsteam_stats('MTL')"
   ]
  },
  {
   "cell_type": "code",
   "execution_count": 136,
   "id": "accredited-fairy",
   "metadata": {},
   "outputs": [
    {
     "name": "stdout",
     "output_type": "stream",
     "text": [
      "2.6666666666666665\n",
      "2.4761904761904763\n"
     ]
    }
   ],
   "source": [
    "# new york islanders\n",
    "teamvsteam_stats('NYI')"
   ]
  },
  {
   "cell_type": "code",
   "execution_count": 137,
   "id": "answering-jason",
   "metadata": {},
   "outputs": [
    {
     "name": "stdout",
     "output_type": "stream",
     "text": [
      "1.9523809523809523\n",
      "2.9523809523809526\n"
     ]
    }
   ],
   "source": [
    "# philadelphia\n",
    "teamvsteam_stats('PHI')"
   ]
  },
  {
   "cell_type": "code",
   "execution_count": 138,
   "id": "extensive-stevens",
   "metadata": {},
   "outputs": [
    {
     "name": "stdout",
     "output_type": "stream",
     "text": [
      "2.857142857142857\n",
      "2.3333333333333335\n"
     ]
    }
   ],
   "source": [
    "# new york rangers\n",
    "teamvsteam_stats('NYR')"
   ]
  },
  {
   "cell_type": "code",
   "execution_count": 139,
   "id": "equivalent-medicaid",
   "metadata": {},
   "outputs": [
    {
     "name": "stdout",
     "output_type": "stream",
     "text": [
      "2.0476190476190474\n",
      "1.1428571428571428\n"
     ]
    }
   ],
   "source": [
    "# buffalo\n",
    "teamvsteam_stats('BUF')"
   ]
  },
  {
   "cell_type": "code",
   "execution_count": 130,
   "id": "durable-gabriel",
   "metadata": {},
   "outputs": [
    {
     "name": "stdout",
     "output_type": "stream",
     "text": [
      "2.619047619047619\n",
      "2.1904761904761907\n"
     ]
    }
   ],
   "source": [
    "# washington\n",
    "teamvsteam_stats('WAS')"
   ]
  },
  {
   "cell_type": "markdown",
   "id": "superior-george",
   "metadata": {},
   "source": [
    "**Team Stats**"
   ]
  },
  {
   "cell_type": "code",
   "execution_count": 140,
   "id": "sapphire-watts",
   "metadata": {},
   "outputs": [],
   "source": [
    "# read teams csv file\n",
    "teams = pd.read_csv('data/Teams.csv')"
   ]
  },
  {
   "cell_type": "code",
   "execution_count": 141,
   "id": "reverse-victoria",
   "metadata": {},
   "outputs": [
    {
     "data": {
      "text/html": [
       "<div>\n",
       "<style scoped>\n",
       "    .dataframe tbody tr th:only-of-type {\n",
       "        vertical-align: middle;\n",
       "    }\n",
       "\n",
       "    .dataframe tbody tr th {\n",
       "        vertical-align: top;\n",
       "    }\n",
       "\n",
       "    .dataframe thead th {\n",
       "        text-align: right;\n",
       "    }\n",
       "</style>\n",
       "<table border=\"1\" class=\"dataframe\">\n",
       "  <thead>\n",
       "    <tr style=\"text-align: right;\">\n",
       "      <th></th>\n",
       "      <th>year</th>\n",
       "      <th>lgID</th>\n",
       "      <th>tmID</th>\n",
       "      <th>franchID</th>\n",
       "      <th>confID</th>\n",
       "      <th>divID</th>\n",
       "      <th>rank</th>\n",
       "      <th>playoff</th>\n",
       "      <th>G</th>\n",
       "      <th>W</th>\n",
       "      <th>...</th>\n",
       "      <th>GA</th>\n",
       "      <th>name</th>\n",
       "      <th>PIM</th>\n",
       "      <th>BenchMinor</th>\n",
       "      <th>PPG</th>\n",
       "      <th>PPC</th>\n",
       "      <th>SHA</th>\n",
       "      <th>PKG</th>\n",
       "      <th>PKC</th>\n",
       "      <th>SHF</th>\n",
       "    </tr>\n",
       "  </thead>\n",
       "  <tbody>\n",
       "    <tr>\n",
       "      <th>446</th>\n",
       "      <td>1967</td>\n",
       "      <td>NHL</td>\n",
       "      <td>PIT</td>\n",
       "      <td>PIT</td>\n",
       "      <td>NaN</td>\n",
       "      <td>WD</td>\n",
       "      <td>5</td>\n",
       "      <td>NaN</td>\n",
       "      <td>74</td>\n",
       "      <td>27</td>\n",
       "      <td>...</td>\n",
       "      <td>216</td>\n",
       "      <td>Pittsburgh Penguins</td>\n",
       "      <td>548.0</td>\n",
       "      <td>NaN</td>\n",
       "      <td>37.0</td>\n",
       "      <td>273.0</td>\n",
       "      <td>11.0</td>\n",
       "      <td>30.0</td>\n",
       "      <td>195.0</td>\n",
       "      <td>2.0</td>\n",
       "    </tr>\n",
       "    <tr>\n",
       "      <th>458</th>\n",
       "      <td>1968</td>\n",
       "      <td>NHL</td>\n",
       "      <td>PIT</td>\n",
       "      <td>PIT</td>\n",
       "      <td>NaN</td>\n",
       "      <td>WD</td>\n",
       "      <td>5</td>\n",
       "      <td>NaN</td>\n",
       "      <td>76</td>\n",
       "      <td>20</td>\n",
       "      <td>...</td>\n",
       "      <td>252</td>\n",
       "      <td>Pittsburgh Penguins</td>\n",
       "      <td>669.0</td>\n",
       "      <td>NaN</td>\n",
       "      <td>50.0</td>\n",
       "      <td>303.0</td>\n",
       "      <td>9.0</td>\n",
       "      <td>38.0</td>\n",
       "      <td>231.0</td>\n",
       "      <td>8.0</td>\n",
       "    </tr>\n",
       "    <tr>\n",
       "      <th>470</th>\n",
       "      <td>1969</td>\n",
       "      <td>NHL</td>\n",
       "      <td>PIT</td>\n",
       "      <td>PIT</td>\n",
       "      <td>NaN</td>\n",
       "      <td>WD</td>\n",
       "      <td>2</td>\n",
       "      <td>SF</td>\n",
       "      <td>76</td>\n",
       "      <td>26</td>\n",
       "      <td>...</td>\n",
       "      <td>238</td>\n",
       "      <td>Pittsburgh Penguins</td>\n",
       "      <td>1038.0</td>\n",
       "      <td>4.0</td>\n",
       "      <td>53.0</td>\n",
       "      <td>315.0</td>\n",
       "      <td>5.0</td>\n",
       "      <td>66.0</td>\n",
       "      <td>282.0</td>\n",
       "      <td>2.0</td>\n",
       "    </tr>\n",
       "    <tr>\n",
       "      <th>483</th>\n",
       "      <td>1970</td>\n",
       "      <td>NHL</td>\n",
       "      <td>PIT</td>\n",
       "      <td>PIT</td>\n",
       "      <td>NaN</td>\n",
       "      <td>WD</td>\n",
       "      <td>6</td>\n",
       "      <td>NaN</td>\n",
       "      <td>78</td>\n",
       "      <td>21</td>\n",
       "      <td>...</td>\n",
       "      <td>240</td>\n",
       "      <td>Pittsburgh Penguins</td>\n",
       "      <td>1079.0</td>\n",
       "      <td>6.0</td>\n",
       "      <td>56.0</td>\n",
       "      <td>318.0</td>\n",
       "      <td>9.0</td>\n",
       "      <td>48.0</td>\n",
       "      <td>276.0</td>\n",
       "      <td>5.0</td>\n",
       "    </tr>\n",
       "    <tr>\n",
       "      <th>497</th>\n",
       "      <td>1971</td>\n",
       "      <td>NHL</td>\n",
       "      <td>PIT</td>\n",
       "      <td>PIT</td>\n",
       "      <td>NaN</td>\n",
       "      <td>WD</td>\n",
       "      <td>4</td>\n",
       "      <td>QF</td>\n",
       "      <td>78</td>\n",
       "      <td>26</td>\n",
       "      <td>...</td>\n",
       "      <td>258</td>\n",
       "      <td>Pittsburgh Penguins</td>\n",
       "      <td>978.0</td>\n",
       "      <td>8.0</td>\n",
       "      <td>46.0</td>\n",
       "      <td>286.0</td>\n",
       "      <td>7.0</td>\n",
       "      <td>55.0</td>\n",
       "      <td>246.0</td>\n",
       "      <td>5.0</td>\n",
       "    </tr>\n",
       "  </tbody>\n",
       "</table>\n",
       "<p>5 rows × 27 columns</p>\n",
       "</div>"
      ],
      "text/plain": [
       "     year lgID tmID franchID confID divID  rank playoff   G   W  ...   GA  \\\n",
       "446  1967  NHL  PIT      PIT    NaN    WD     5     NaN  74  27  ...  216   \n",
       "458  1968  NHL  PIT      PIT    NaN    WD     5     NaN  76  20  ...  252   \n",
       "470  1969  NHL  PIT      PIT    NaN    WD     2      SF  76  26  ...  238   \n",
       "483  1970  NHL  PIT      PIT    NaN    WD     6     NaN  78  21  ...  240   \n",
       "497  1971  NHL  PIT      PIT    NaN    WD     4      QF  78  26  ...  258   \n",
       "\n",
       "                    name    PIM  BenchMinor  PPG   PPC  SHA  PKG   PKC  SHF  \n",
       "446  Pittsburgh Penguins  548.0         NaN 37.0 273.0 11.0 30.0 195.0  2.0  \n",
       "458  Pittsburgh Penguins  669.0         NaN 50.0 303.0  9.0 38.0 231.0  8.0  \n",
       "470  Pittsburgh Penguins 1038.0         4.0 53.0 315.0  5.0 66.0 282.0  2.0  \n",
       "483  Pittsburgh Penguins 1079.0         6.0 56.0 318.0  9.0 48.0 276.0  5.0  \n",
       "497  Pittsburgh Penguins  978.0         8.0 46.0 286.0  7.0 55.0 246.0  5.0  \n",
       "\n",
       "[5 rows x 27 columns]"
      ]
     },
     "execution_count": 141,
     "metadata": {},
     "output_type": "execute_result"
    }
   ],
   "source": [
    "# see Penguins' stats\n",
    "pit = teams.loc[teams['tmID'] == 'PIT']\n",
    "pit.head()"
   ]
  },
  {
   "cell_type": "code",
   "execution_count": 142,
   "id": "casual-massachusetts",
   "metadata": {},
   "outputs": [
    {
     "data": {
      "text/html": [
       "<div>\n",
       "<style scoped>\n",
       "    .dataframe tbody tr th:only-of-type {\n",
       "        vertical-align: middle;\n",
       "    }\n",
       "\n",
       "    .dataframe tbody tr th {\n",
       "        vertical-align: top;\n",
       "    }\n",
       "\n",
       "    .dataframe thead th {\n",
       "        text-align: right;\n",
       "    }\n",
       "</style>\n",
       "<table border=\"1\" class=\"dataframe\">\n",
       "  <thead>\n",
       "    <tr style=\"text-align: right;\">\n",
       "      <th></th>\n",
       "      <th>year</th>\n",
       "      <th>lgID</th>\n",
       "      <th>tmID</th>\n",
       "      <th>franchID</th>\n",
       "      <th>confID</th>\n",
       "      <th>divID</th>\n",
       "      <th>rank</th>\n",
       "      <th>playoff</th>\n",
       "      <th>G</th>\n",
       "      <th>W</th>\n",
       "      <th>...</th>\n",
       "      <th>GA</th>\n",
       "      <th>name</th>\n",
       "      <th>PIM</th>\n",
       "      <th>BenchMinor</th>\n",
       "      <th>PPG</th>\n",
       "      <th>PPC</th>\n",
       "      <th>SHA</th>\n",
       "      <th>PKG</th>\n",
       "      <th>PKC</th>\n",
       "      <th>SHF</th>\n",
       "    </tr>\n",
       "  </thead>\n",
       "  <tbody>\n",
       "    <tr>\n",
       "      <th>825</th>\n",
       "      <td>1984</td>\n",
       "      <td>NHL</td>\n",
       "      <td>PIT</td>\n",
       "      <td>PIT</td>\n",
       "      <td>WA</td>\n",
       "      <td>PT</td>\n",
       "      <td>6</td>\n",
       "      <td>NaN</td>\n",
       "      <td>80</td>\n",
       "      <td>24</td>\n",
       "      <td>...</td>\n",
       "      <td>385</td>\n",
       "      <td>Pittsburgh Penguins</td>\n",
       "      <td>1493.0</td>\n",
       "      <td>16.0</td>\n",
       "      <td>62.0</td>\n",
       "      <td>363.0</td>\n",
       "      <td>22.0</td>\n",
       "      <td>74.0</td>\n",
       "      <td>311.0</td>\n",
       "      <td>7.0</td>\n",
       "    </tr>\n",
       "    <tr>\n",
       "      <th>846</th>\n",
       "      <td>1985</td>\n",
       "      <td>NHL</td>\n",
       "      <td>PIT</td>\n",
       "      <td>PIT</td>\n",
       "      <td>WA</td>\n",
       "      <td>PT</td>\n",
       "      <td>5</td>\n",
       "      <td>NaN</td>\n",
       "      <td>80</td>\n",
       "      <td>34</td>\n",
       "      <td>...</td>\n",
       "      <td>305</td>\n",
       "      <td>Pittsburgh Penguins</td>\n",
       "      <td>1538.0</td>\n",
       "      <td>18.0</td>\n",
       "      <td>93.0</td>\n",
       "      <td>425.0</td>\n",
       "      <td>17.0</td>\n",
       "      <td>78.0</td>\n",
       "      <td>340.0</td>\n",
       "      <td>12.0</td>\n",
       "    </tr>\n",
       "    <tr>\n",
       "      <th>867</th>\n",
       "      <td>1986</td>\n",
       "      <td>NHL</td>\n",
       "      <td>PIT</td>\n",
       "      <td>PIT</td>\n",
       "      <td>WA</td>\n",
       "      <td>PT</td>\n",
       "      <td>5</td>\n",
       "      <td>NaN</td>\n",
       "      <td>80</td>\n",
       "      <td>30</td>\n",
       "      <td>...</td>\n",
       "      <td>290</td>\n",
       "      <td>Pittsburgh Penguins</td>\n",
       "      <td>1693.0</td>\n",
       "      <td>16.0</td>\n",
       "      <td>74.0</td>\n",
       "      <td>378.0</td>\n",
       "      <td>9.0</td>\n",
       "      <td>72.0</td>\n",
       "      <td>318.0</td>\n",
       "      <td>7.0</td>\n",
       "    </tr>\n",
       "    <tr>\n",
       "      <th>888</th>\n",
       "      <td>1987</td>\n",
       "      <td>NHL</td>\n",
       "      <td>PIT</td>\n",
       "      <td>PIT</td>\n",
       "      <td>WA</td>\n",
       "      <td>PT</td>\n",
       "      <td>6</td>\n",
       "      <td>NaN</td>\n",
       "      <td>80</td>\n",
       "      <td>36</td>\n",
       "      <td>...</td>\n",
       "      <td>316</td>\n",
       "      <td>Pittsburgh Penguins</td>\n",
       "      <td>2211.0</td>\n",
       "      <td>26.0</td>\n",
       "      <td>110.0</td>\n",
       "      <td>500.0</td>\n",
       "      <td>19.0</td>\n",
       "      <td>120.0</td>\n",
       "      <td>507.0</td>\n",
       "      <td>18.0</td>\n",
       "    </tr>\n",
       "    <tr>\n",
       "      <th>909</th>\n",
       "      <td>1988</td>\n",
       "      <td>NHL</td>\n",
       "      <td>PIT</td>\n",
       "      <td>PIT</td>\n",
       "      <td>WA</td>\n",
       "      <td>PT</td>\n",
       "      <td>2</td>\n",
       "      <td>DF</td>\n",
       "      <td>80</td>\n",
       "      <td>40</td>\n",
       "      <td>...</td>\n",
       "      <td>349</td>\n",
       "      <td>Pittsburgh Penguins</td>\n",
       "      <td>2670.0</td>\n",
       "      <td>16.0</td>\n",
       "      <td>119.0</td>\n",
       "      <td>491.0</td>\n",
       "      <td>16.0</td>\n",
       "      <td>111.0</td>\n",
       "      <td>482.0</td>\n",
       "      <td>21.0</td>\n",
       "    </tr>\n",
       "  </tbody>\n",
       "</table>\n",
       "<p>5 rows × 27 columns</p>\n",
       "</div>"
      ],
      "text/plain": [
       "     year lgID tmID franchID confID divID  rank playoff   G   W  ...   GA  \\\n",
       "825  1984  NHL  PIT      PIT     WA    PT     6     NaN  80  24  ...  385   \n",
       "846  1985  NHL  PIT      PIT     WA    PT     5     NaN  80  34  ...  305   \n",
       "867  1986  NHL  PIT      PIT     WA    PT     5     NaN  80  30  ...  290   \n",
       "888  1987  NHL  PIT      PIT     WA    PT     6     NaN  80  36  ...  316   \n",
       "909  1988  NHL  PIT      PIT     WA    PT     2      DF  80  40  ...  349   \n",
       "\n",
       "                    name    PIM  BenchMinor   PPG   PPC  SHA   PKG   PKC  SHF  \n",
       "825  Pittsburgh Penguins 1493.0        16.0  62.0 363.0 22.0  74.0 311.0  7.0  \n",
       "846  Pittsburgh Penguins 1538.0        18.0  93.0 425.0 17.0  78.0 340.0 12.0  \n",
       "867  Pittsburgh Penguins 1693.0        16.0  74.0 378.0  9.0  72.0 318.0  7.0  \n",
       "888  Pittsburgh Penguins 2211.0        26.0 110.0 500.0 19.0 120.0 507.0 18.0  \n",
       "909  Pittsburgh Penguins 2670.0        16.0 119.0 491.0 16.0 111.0 482.0 21.0  \n",
       "\n",
       "[5 rows x 27 columns]"
      ]
     },
     "execution_count": 142,
     "metadata": {},
     "output_type": "execute_result"
    }
   ],
   "source": [
    "# filter out years between 1984 and 2005\n",
    "pit = pit.loc[pit['year'] >= 1984]\n",
    "pit = pit.loc[pit['year'] <= 2005]\n",
    "pit.head()"
   ]
  },
  {
   "cell_type": "markdown",
   "id": "rural-collection",
   "metadata": {},
   "source": [
    "**Teams Half Season**"
   ]
  },
  {
   "cell_type": "code",
   "execution_count": 143,
   "id": "mineral-voice",
   "metadata": {},
   "outputs": [],
   "source": [
    "# read teams half season csv file\n",
    "teamshalf = pd.read_csv('data/TeamsHalf.csv')"
   ]
  },
  {
   "cell_type": "code",
   "execution_count": 144,
   "id": "intermediate-highlight",
   "metadata": {},
   "outputs": [
    {
     "data": {
      "text/html": [
       "<div>\n",
       "<style scoped>\n",
       "    .dataframe tbody tr th:only-of-type {\n",
       "        vertical-align: middle;\n",
       "    }\n",
       "\n",
       "    .dataframe tbody tr th {\n",
       "        vertical-align: top;\n",
       "    }\n",
       "\n",
       "    .dataframe thead th {\n",
       "        text-align: right;\n",
       "    }\n",
       "</style>\n",
       "<table border=\"1\" class=\"dataframe\">\n",
       "  <thead>\n",
       "    <tr style=\"text-align: right;\">\n",
       "      <th></th>\n",
       "      <th>year</th>\n",
       "      <th>lgID</th>\n",
       "      <th>tmID</th>\n",
       "      <th>half</th>\n",
       "      <th>rank</th>\n",
       "      <th>G</th>\n",
       "      <th>W</th>\n",
       "      <th>L</th>\n",
       "      <th>T</th>\n",
       "      <th>GF</th>\n",
       "      <th>GA</th>\n",
       "    </tr>\n",
       "  </thead>\n",
       "  <tbody>\n",
       "  </tbody>\n",
       "</table>\n",
       "</div>"
      ],
      "text/plain": [
       "Empty DataFrame\n",
       "Columns: [year, lgID, tmID, half, rank, G, W, L, T, GF, GA]\n",
       "Index: []"
      ]
     },
     "execution_count": 144,
     "metadata": {},
     "output_type": "execute_result"
    }
   ],
   "source": [
    "# look at Penguins' performance \n",
    "pit_half = teamshalf.loc[teamshalf['tmID'] == 'PIT']\n",
    "pit_half.head()"
   ]
  },
  {
   "cell_type": "markdown",
   "id": "military-angola",
   "metadata": {},
   "source": [
    "**Teams Post Seasons**"
   ]
  },
  {
   "cell_type": "code",
   "execution_count": 145,
   "id": "immune-tactics",
   "metadata": {},
   "outputs": [],
   "source": [
    "# read Teams post season csv file\n",
    "teamspost = pd.read_csv('data/TeamsPost.csv')"
   ]
  },
  {
   "cell_type": "code",
   "execution_count": 146,
   "id": "rental-recall",
   "metadata": {},
   "outputs": [
    {
     "data": {
      "text/html": [
       "<div>\n",
       "<style scoped>\n",
       "    .dataframe tbody tr th:only-of-type {\n",
       "        vertical-align: middle;\n",
       "    }\n",
       "\n",
       "    .dataframe tbody tr th {\n",
       "        vertical-align: top;\n",
       "    }\n",
       "\n",
       "    .dataframe thead th {\n",
       "        text-align: right;\n",
       "    }\n",
       "</style>\n",
       "<table border=\"1\" class=\"dataframe\">\n",
       "  <thead>\n",
       "    <tr style=\"text-align: right;\">\n",
       "      <th></th>\n",
       "      <th>year</th>\n",
       "      <th>lgID</th>\n",
       "      <th>tmID</th>\n",
       "      <th>G</th>\n",
       "      <th>W</th>\n",
       "      <th>L</th>\n",
       "      <th>T</th>\n",
       "      <th>GF</th>\n",
       "      <th>GA</th>\n",
       "      <th>PIM</th>\n",
       "      <th>BenchMinor</th>\n",
       "      <th>PPG</th>\n",
       "      <th>PPC</th>\n",
       "      <th>SHA</th>\n",
       "      <th>PKG</th>\n",
       "      <th>PKC</th>\n",
       "      <th>SHF</th>\n",
       "    </tr>\n",
       "  </thead>\n",
       "  <tbody>\n",
       "    <tr>\n",
       "      <th>268</th>\n",
       "      <td>1969</td>\n",
       "      <td>NHL</td>\n",
       "      <td>PIT</td>\n",
       "      <td>10</td>\n",
       "      <td>6</td>\n",
       "      <td>4</td>\n",
       "      <td>0</td>\n",
       "      <td>23</td>\n",
       "      <td>25</td>\n",
       "      <td>211.0</td>\n",
       "      <td>NaN</td>\n",
       "      <td>4.0</td>\n",
       "      <td>NaN</td>\n",
       "      <td>2.0</td>\n",
       "      <td>9.0</td>\n",
       "      <td>NaN</td>\n",
       "      <td>0.0</td>\n",
       "    </tr>\n",
       "    <tr>\n",
       "      <th>283</th>\n",
       "      <td>1971</td>\n",
       "      <td>NHL</td>\n",
       "      <td>PIT</td>\n",
       "      <td>4</td>\n",
       "      <td>0</td>\n",
       "      <td>4</td>\n",
       "      <td>0</td>\n",
       "      <td>8</td>\n",
       "      <td>14</td>\n",
       "      <td>71.0</td>\n",
       "      <td>NaN</td>\n",
       "      <td>1.0</td>\n",
       "      <td>NaN</td>\n",
       "      <td>1.0</td>\n",
       "      <td>0.0</td>\n",
       "      <td>NaN</td>\n",
       "      <td>1.0</td>\n",
       "    </tr>\n",
       "    <tr>\n",
       "      <th>326</th>\n",
       "      <td>1974</td>\n",
       "      <td>NHL</td>\n",
       "      <td>PIT</td>\n",
       "      <td>9</td>\n",
       "      <td>5</td>\n",
       "      <td>4</td>\n",
       "      <td>0</td>\n",
       "      <td>27</td>\n",
       "      <td>27</td>\n",
       "      <td>126.0</td>\n",
       "      <td>0.0</td>\n",
       "      <td>5.0</td>\n",
       "      <td>32.0</td>\n",
       "      <td>1.0</td>\n",
       "      <td>7.0</td>\n",
       "      <td>36.0</td>\n",
       "      <td>2.0</td>\n",
       "    </tr>\n",
       "    <tr>\n",
       "      <th>346</th>\n",
       "      <td>1975</td>\n",
       "      <td>NHL</td>\n",
       "      <td>PIT</td>\n",
       "      <td>3</td>\n",
       "      <td>1</td>\n",
       "      <td>2</td>\n",
       "      <td>0</td>\n",
       "      <td>3</td>\n",
       "      <td>8</td>\n",
       "      <td>25.0</td>\n",
       "      <td>0.0</td>\n",
       "      <td>1.0</td>\n",
       "      <td>13.0</td>\n",
       "      <td>0.0</td>\n",
       "      <td>2.0</td>\n",
       "      <td>9.0</td>\n",
       "      <td>0.0</td>\n",
       "    </tr>\n",
       "    <tr>\n",
       "      <th>369</th>\n",
       "      <td>1976</td>\n",
       "      <td>NHL</td>\n",
       "      <td>PIT</td>\n",
       "      <td>3</td>\n",
       "      <td>1</td>\n",
       "      <td>2</td>\n",
       "      <td>0</td>\n",
       "      <td>10</td>\n",
       "      <td>13</td>\n",
       "      <td>60.0</td>\n",
       "      <td>2.0</td>\n",
       "      <td>3.0</td>\n",
       "      <td>10.0</td>\n",
       "      <td>0.0</td>\n",
       "      <td>4.0</td>\n",
       "      <td>10.0</td>\n",
       "      <td>0.0</td>\n",
       "    </tr>\n",
       "  </tbody>\n",
       "</table>\n",
       "</div>"
      ],
      "text/plain": [
       "     year lgID tmID   G  W  L  T  GF  GA   PIM  BenchMinor  PPG  PPC  SHA  \\\n",
       "268  1969  NHL  PIT  10  6  4  0  23  25 211.0         NaN  4.0  NaN  2.0   \n",
       "283  1971  NHL  PIT   4  0  4  0   8  14  71.0         NaN  1.0  NaN  1.0   \n",
       "326  1974  NHL  PIT   9  5  4  0  27  27 126.0         0.0  5.0 32.0  1.0   \n",
       "346  1975  NHL  PIT   3  1  2  0   3   8  25.0         0.0  1.0 13.0  0.0   \n",
       "369  1976  NHL  PIT   3  1  2  0  10  13  60.0         2.0  3.0 10.0  0.0   \n",
       "\n",
       "     PKG  PKC  SHF  \n",
       "268  9.0  NaN  0.0  \n",
       "283  0.0  NaN  1.0  \n",
       "326  7.0 36.0  2.0  \n",
       "346  2.0  9.0  0.0  \n",
       "369  4.0 10.0  0.0  "
      ]
     },
     "execution_count": 146,
     "metadata": {},
     "output_type": "execute_result"
    }
   ],
   "source": [
    "# see Penguins' stats\n",
    "pit_post = teamspost.loc[teamspost['tmID'] == 'PIT']\n",
    "pit_post.head()"
   ]
  },
  {
   "cell_type": "code",
   "execution_count": 147,
   "id": "steady-commons",
   "metadata": {},
   "outputs": [
    {
     "data": {
      "text/html": [
       "<div>\n",
       "<style scoped>\n",
       "    .dataframe tbody tr th:only-of-type {\n",
       "        vertical-align: middle;\n",
       "    }\n",
       "\n",
       "    .dataframe tbody tr th {\n",
       "        vertical-align: top;\n",
       "    }\n",
       "\n",
       "    .dataframe thead th {\n",
       "        text-align: right;\n",
       "    }\n",
       "</style>\n",
       "<table border=\"1\" class=\"dataframe\">\n",
       "  <thead>\n",
       "    <tr style=\"text-align: right;\">\n",
       "      <th></th>\n",
       "      <th>year</th>\n",
       "      <th>lgID</th>\n",
       "      <th>tmID</th>\n",
       "      <th>G</th>\n",
       "      <th>W</th>\n",
       "      <th>L</th>\n",
       "      <th>T</th>\n",
       "      <th>GF</th>\n",
       "      <th>GA</th>\n",
       "      <th>PIM</th>\n",
       "      <th>BenchMinor</th>\n",
       "      <th>PPG</th>\n",
       "      <th>PPC</th>\n",
       "      <th>SHA</th>\n",
       "      <th>PKG</th>\n",
       "      <th>PKC</th>\n",
       "      <th>SHF</th>\n",
       "    </tr>\n",
       "  </thead>\n",
       "  <tbody>\n",
       "    <tr>\n",
       "      <th>571</th>\n",
       "      <td>1988</td>\n",
       "      <td>NHL</td>\n",
       "      <td>PIT</td>\n",
       "      <td>11</td>\n",
       "      <td>7</td>\n",
       "      <td>4</td>\n",
       "      <td>0</td>\n",
       "      <td>43</td>\n",
       "      <td>42</td>\n",
       "      <td>452.0</td>\n",
       "      <td>2.0</td>\n",
       "      <td>16.0</td>\n",
       "      <td>70.0</td>\n",
       "      <td>NaN</td>\n",
       "      <td>17.0</td>\n",
       "      <td>69.0</td>\n",
       "      <td>1.0</td>\n",
       "    </tr>\n",
       "    <tr>\n",
       "      <th>603</th>\n",
       "      <td>1990</td>\n",
       "      <td>NHL</td>\n",
       "      <td>PIT</td>\n",
       "      <td>24</td>\n",
       "      <td>16</td>\n",
       "      <td>8</td>\n",
       "      <td>0</td>\n",
       "      <td>95</td>\n",
       "      <td>68</td>\n",
       "      <td>571.0</td>\n",
       "      <td>12.0</td>\n",
       "      <td>26.0</td>\n",
       "      <td>137.0</td>\n",
       "      <td>4.0</td>\n",
       "      <td>25.0</td>\n",
       "      <td>120.0</td>\n",
       "      <td>3.0</td>\n",
       "    </tr>\n",
       "    <tr>\n",
       "      <th>618</th>\n",
       "      <td>1991</td>\n",
       "      <td>NHL</td>\n",
       "      <td>PIT</td>\n",
       "      <td>21</td>\n",
       "      <td>16</td>\n",
       "      <td>5</td>\n",
       "      <td>0</td>\n",
       "      <td>83</td>\n",
       "      <td>63</td>\n",
       "      <td>339.0</td>\n",
       "      <td>2.0</td>\n",
       "      <td>25.0</td>\n",
       "      <td>102.0</td>\n",
       "      <td>3.0</td>\n",
       "      <td>13.0</td>\n",
       "      <td>92.0</td>\n",
       "      <td>3.0</td>\n",
       "    </tr>\n",
       "    <tr>\n",
       "      <th>632</th>\n",
       "      <td>1992</td>\n",
       "      <td>NHL</td>\n",
       "      <td>PIT</td>\n",
       "      <td>12</td>\n",
       "      <td>7</td>\n",
       "      <td>5</td>\n",
       "      <td>0</td>\n",
       "      <td>50</td>\n",
       "      <td>37</td>\n",
       "      <td>200.0</td>\n",
       "      <td>0.0</td>\n",
       "      <td>12.0</td>\n",
       "      <td>52.0</td>\n",
       "      <td>5.0</td>\n",
       "      <td>9.0</td>\n",
       "      <td>61.0</td>\n",
       "      <td>2.0</td>\n",
       "    </tr>\n",
       "    <tr>\n",
       "      <th>649</th>\n",
       "      <td>1993</td>\n",
       "      <td>NHL</td>\n",
       "      <td>PIT</td>\n",
       "      <td>6</td>\n",
       "      <td>2</td>\n",
       "      <td>4</td>\n",
       "      <td>0</td>\n",
       "      <td>12</td>\n",
       "      <td>20</td>\n",
       "      <td>140.0</td>\n",
       "      <td>2.0</td>\n",
       "      <td>2.0</td>\n",
       "      <td>27.0</td>\n",
       "      <td>2.0</td>\n",
       "      <td>3.0</td>\n",
       "      <td>30.0</td>\n",
       "      <td>0.0</td>\n",
       "    </tr>\n",
       "  </tbody>\n",
       "</table>\n",
       "</div>"
      ],
      "text/plain": [
       "     year lgID tmID   G   W  L  T  GF  GA   PIM  BenchMinor  PPG   PPC  SHA  \\\n",
       "571  1988  NHL  PIT  11   7  4  0  43  42 452.0         2.0 16.0  70.0  NaN   \n",
       "603  1990  NHL  PIT  24  16  8  0  95  68 571.0        12.0 26.0 137.0  4.0   \n",
       "618  1991  NHL  PIT  21  16  5  0  83  63 339.0         2.0 25.0 102.0  3.0   \n",
       "632  1992  NHL  PIT  12   7  5  0  50  37 200.0         0.0 12.0  52.0  5.0   \n",
       "649  1993  NHL  PIT   6   2  4  0  12  20 140.0         2.0  2.0  27.0  2.0   \n",
       "\n",
       "     PKG   PKC  SHF  \n",
       "571 17.0  69.0  1.0  \n",
       "603 25.0 120.0  3.0  \n",
       "618 13.0  92.0  3.0  \n",
       "632  9.0  61.0  2.0  \n",
       "649  3.0  30.0  0.0  "
      ]
     },
     "execution_count": 147,
     "metadata": {},
     "output_type": "execute_result"
    }
   ],
   "source": [
    "# filter out years between 1984 and 2005\n",
    "pit_post = pit_post.loc[pit_post['year'] >= 1984]\n",
    "pit_post = pit_post.loc[pit_post['year'] <= 2005]\n",
    "pit_post.head()"
   ]
  },
  {
   "cell_type": "markdown",
   "id": "front-integrity",
   "metadata": {},
   "source": [
    "**Teams Stanley Cup**"
   ]
  },
  {
   "cell_type": "code",
   "execution_count": 148,
   "id": "atlantic-sixth",
   "metadata": {},
   "outputs": [],
   "source": [
    "# read teams stanley cup csv file\n",
    "teamssc = pd.read_csv('data/TeamsSC.csv')"
   ]
  },
  {
   "cell_type": "code",
   "execution_count": 149,
   "id": "economic-awareness",
   "metadata": {},
   "outputs": [
    {
     "data": {
      "text/html": [
       "<div>\n",
       "<style scoped>\n",
       "    .dataframe tbody tr th:only-of-type {\n",
       "        vertical-align: middle;\n",
       "    }\n",
       "\n",
       "    .dataframe tbody tr th {\n",
       "        vertical-align: top;\n",
       "    }\n",
       "\n",
       "    .dataframe thead th {\n",
       "        text-align: right;\n",
       "    }\n",
       "</style>\n",
       "<table border=\"1\" class=\"dataframe\">\n",
       "  <thead>\n",
       "    <tr style=\"text-align: right;\">\n",
       "      <th></th>\n",
       "      <th>year</th>\n",
       "      <th>lgID</th>\n",
       "      <th>tmID</th>\n",
       "      <th>G</th>\n",
       "      <th>W</th>\n",
       "      <th>L</th>\n",
       "      <th>T</th>\n",
       "      <th>GF</th>\n",
       "      <th>GA</th>\n",
       "      <th>PIM</th>\n",
       "    </tr>\n",
       "  </thead>\n",
       "  <tbody>\n",
       "  </tbody>\n",
       "</table>\n",
       "</div>"
      ],
      "text/plain": [
       "Empty DataFrame\n",
       "Columns: [year, lgID, tmID, G, W, L, T, GF, GA, PIM]\n",
       "Index: []"
      ]
     },
     "execution_count": 149,
     "metadata": {},
     "output_type": "execute_result"
    }
   ],
   "source": [
    "pit_sc = teamssc.loc[teamssc['tmID'] == 'WAS'] # the data is up to 1925 and does not mention the Penguins\n",
    "pit_sc.head()"
   ]
  }
 ],
 "metadata": {
  "kernelspec": {
   "display_name": "Python 3",
   "language": "python",
   "name": "python3"
  },
  "language_info": {
   "codemirror_mode": {
    "name": "ipython",
    "version": 3
   },
   "file_extension": ".py",
   "mimetype": "text/x-python",
   "name": "python",
   "nbconvert_exporter": "python",
   "pygments_lexer": "ipython3",
   "version": "3.8.5"
  }
 },
 "nbformat": 4,
 "nbformat_minor": 5
}
